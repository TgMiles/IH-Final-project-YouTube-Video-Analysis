{
 "cells": [
  {
   "cell_type": "code",
   "execution_count": 2531,
   "id": "8887b0fe-baaa-4525-a452-2723fcfa0c63",
   "metadata": {},
   "outputs": [],
   "source": [
    "# pip install --upgrade google-api-python-client"
   ]
  },
  {
   "cell_type": "code",
   "execution_count": 2532,
   "id": "6b34bd5d-ba6e-4336-84da-52b7ae4a14ed",
   "metadata": {},
   "outputs": [],
   "source": [
    "# pip install --upgrade google-auth-oauthlib google-auth-httplib2"
   ]
  },
  {
   "cell_type": "code",
   "execution_count": 2533,
   "id": "08be0e24-96a5-4d7c-adab-36d5abc12d27",
   "metadata": {},
   "outputs": [],
   "source": [
    "import urllib\n",
    "import json\n",
    "import requests\n",
    "import pandas as pd\n",
    "import numpy as np\n",
    "import pickle\n",
    "import re\n"
   ]
  },
  {
   "cell_type": "code",
   "execution_count": 2534,
   "id": "147a8b40-5508-4607-bdb2-999aa4c9e5af",
   "metadata": {},
   "outputs": [],
   "source": [
    "import os, sys\n",
    "\n",
    "class HiddenPrints:\n",
    "    def __enter__(self):\n",
    "        self._original_stdout = sys.stdout\n",
    "        sys.stdout = open(os.devnull, 'w')\n",
    "\n",
    "    def __exit__(self, exc_type, exc_val, exc_tb):\n",
    "        sys.stdout.close()\n",
    "        sys.stdout = self._original_stdout"
   ]
  },
  {
   "cell_type": "code",
   "execution_count": 2535,
   "id": "355c62f6-e019-4ae0-b948-2eac6da53e9b",
   "metadata": {},
   "outputs": [],
   "source": [
    "pd.set_option('display.max_columns', None)\n",
    "pd.set_option('display.max_colwidth', None)\n",
    "pd.set_option('display.max_rows', 50)"
   ]
  },
  {
   "cell_type": "markdown",
   "id": "133113f1-4d52-4ac3-a4f1-f4cd977d5c89",
   "metadata": {},
   "source": [
    "# Collect Data"
   ]
  },
  {
   "cell_type": "markdown",
   "id": "f2a1500d-9cee-49a3-ad7a-7bcec7ce6246",
   "metadata": {},
   "source": [
    "## Get data from YouTube"
   ]
  },
  {
   "cell_type": "markdown",
   "id": "666e3813-9490-44e7-b58a-4310804dd3cb",
   "metadata": {},
   "source": [
    "### Get lists of videos from some SC2 channels"
   ]
  },
  {
   "cell_type": "markdown",
   "id": "4bbacd0c-829f-4c0c-8d94-835dd82bfcb4",
   "metadata": {},
   "source": [
    "Main analysis will be on videos & stats from channel **HarstemCasts**<br>\n",
    "https://www.youtube.com/c/HarstemCasts/videos"
   ]
  },
  {
   "cell_type": "code",
   "execution_count": 2536,
   "id": "a5161be2-9cc8-40fa-8335-a90994dd976e",
   "metadata": {},
   "outputs": [],
   "source": [
    "api_key = \"*SECRET*\"\n",
    "\n",
    "# Channel IDs\n",
    "harstem_casts_id = 'UCmwOm-YjCmcddE9xe9sEpUg'\n",
    "harstem_id = 'UCCRdB9rqzP2m7bPYb5drH_Q'\n",
    "lowko_clips_id = 'UCpPS0EHyYGxHlzH0RmARg6Q'\n",
    "sc2hl_id = 'UC9C07cryUrKzLuAzwITPA3A'"
   ]
  },
  {
   "cell_type": "code",
   "execution_count": 2537,
   "id": "9e4acfc7-5eb2-4cbb-8ee5-42ca15f62c9c",
   "metadata": {},
   "outputs": [],
   "source": [
    "def get_channel_id_by_username(api_key, username):\n",
    "    result = requests.get(\"https://www.googleapis.com/youtube/v3/channels?part=snippet&forUsername=\" + username + \"&key=\" + api_key)\n",
    "    result = result.json()\n",
    "    result = pd.json_normalize(result)\n",
    "    channel_id = result['items'][0][0]['id']\n",
    "    print('Username: ' + username + '\\nChannel ID: ' + channel_id)\n",
    "    return(channel_id)"
   ]
  },
  {
   "cell_type": "code",
   "execution_count": 2538,
   "id": "f06702ed-a8db-402a-87b1-c2da1ef7263c",
   "metadata": {},
   "outputs": [],
   "source": [
    "# lowko_tv_id = get_channel_id_by_username(api_key, 'Felixje0')"
   ]
  },
  {
   "cell_type": "code",
   "execution_count": 2539,
   "id": "e42d5a5f-0c02-4dc8-b234-5884c577ac5b",
   "metadata": {},
   "outputs": [],
   "source": [
    "def get_videos_from_channel(api_key, channel_id):\n",
    "    result = requests.get(\"https://www.googleapis.com/youtube/v3/search?order=date&part=snippet&channelId=\" + channel_id + \"&maxResults=50&key=\" + api_key)\n",
    "    print('Request Status: ')\n",
    "    print(result)\n",
    "    print('\\n')\n",
    "    video_list =  result.json()\n",
    "    video_list = pd.json_normalize(video_list)    \n",
    "    list_of_all_videos = video_list['items'][0]    \n",
    "    channel_name = list_of_all_videos[0]['snippet']['channelTitle']    \n",
    "    print('Channel: ' + channel_title)\n",
    "    channel_name = channel_name.lower().replace(' ', '_').replace('.', '_')\n",
    "    i = 2\n",
    "    while 'nextPageToken' in video_list:        \n",
    "        print('Token Page' + str(i) + ': ' + video_list['nextPageToken'][0])\n",
    "        i = i+1\n",
    "        result_json = requests.get(\"https://www.googleapis.com/youtube/v3/search?order=date&part=snippet&channelId=\" + channel_id + \"&maxResults=50&key=\" + api_key + \"&pageToken=\" + video_list['nextPageToken'][0])\n",
    "        result = result_json.json()\n",
    "        video_list = pd.json_normalize(result)\n",
    "        list_of_all_videos.extend(video_list['items'][0])    \n",
    "    print('\\n' + str(len(list_of_all_videos)) + ' videos loaded')    \n",
    "    # save as pickle file\n",
    "    with open(channel_name + '_videolist_raw.pkl', 'wb') as f:\n",
    "        pickle.dump(list_of_all_videos, f)\n",
    "    print('saved as ' + channel_name + '_videolist_raw.pkl')\n",
    "    return(list_of_all_videos)"
   ]
  },
  {
   "cell_type": "code",
   "execution_count": 2540,
   "id": "107a3b8d-0678-4766-907a-445a4135e24a",
   "metadata": {},
   "outputs": [],
   "source": [
    "## Get videolists from popular SC2 channels and save them as pickle file\n",
    "# lowko_clips_videolist = get_videos_from_channel(api_key, lowko_clips_id)\n",
    "# harstem_videolist = get_videos_from_channel(api_key, harstem_id)\n",
    "# harstem_casts_videolist = get_videos_from_channel(api_key, harstem_casts_id)\n",
    "# lowko_tv_videolist = get_videos_from_channel(api_key, lowko_tv_id)\n",
    "# sc2hl_videolist = get_videos_from_channel(api_key, sc2hl_id)"
   ]
  },
  {
   "cell_type": "code",
   "execution_count": 2541,
   "id": "6d3ecf6b-c95a-4efc-a24c-4998cd101a7d",
   "metadata": {},
   "outputs": [],
   "source": [
    "# open pickle fle\n",
    "with open('harstem_casts_videolist_raw.pkl', 'rb') as f:\n",
    "    list_of_all_videos = pickle.load(f)    "
   ]
  },
  {
   "cell_type": "code",
   "execution_count": 2542,
   "id": "af13bc7e-335e-4174-8b23-e4e4e04261fb",
   "metadata": {},
   "outputs": [],
   "source": [
    "def open_videolist(channel_name):\n",
    "    with open(channel_name + '_videolist_raw.pkl', 'rb') as f:\n",
    "        return(pickle.load(f))"
   ]
  },
  {
   "cell_type": "code",
   "execution_count": 2543,
   "id": "366c64d1-fb44-44d6-bd5d-9f955c800532",
   "metadata": {},
   "outputs": [],
   "source": [
    "# harstem = open_videolist('harstem_casts')"
   ]
  },
  {
   "cell_type": "code",
   "execution_count": 2544,
   "id": "43f43ca9-f8b0-444a-904d-a0dd0dbe4066",
   "metadata": {},
   "outputs": [],
   "source": [
    "def clean_videolist(channel_name):\n",
    "    videolist = open_videolist(channel_name)\n",
    "    videos = pd.DataFrame(pd.json_normalize(videolist))\n",
    "    videos.columns = videos.columns.str.lower().str.replace(' ', '_').str.replace('.', '_', regex=True)\n",
    "    videos = videos[videos.id_kind == \"youtube#video\"] # delete playlists\n",
    "    videos.reset_index(drop=True, inplace=True) # Reset index because we deleted the playlists\n",
    "    print(channel_name)\n",
    "    print('Structure before cleaning:\\n')\n",
    "    print('Columns: ' + str(videos.columns))\n",
    "    print('Shape: ' + str(videos.shape))\n",
    "    print('Data types: ' + str(videos.dtypes))    \n",
    "    print('Type of videos:' + str(videos['id_kind'].value_counts()))\n",
    "    print('Columns snippet_publishedat & snippet_publishtime are equal: '+ str(videos['snippet_publishedat'].equals(videos['snippet_publishtime']))) # Seem to be columns with identical content\n",
    "    print('\\n')\n",
    "    videos.drop(['kind', 'id_kind', 'etag', 'snippet_publishtime', 'snippet_channelid', 'snippet_thumbnails_default_url', 'snippet_thumbnails_default_width', 'snippet_thumbnails_default_height', 'snippet_thumbnails_medium_url', 'snippet_thumbnails_medium_width', 'snippet_thumbnails_medium_height', 'snippet_thumbnails_high_url', 'snippet_thumbnails_high_width', 'snippet_thumbnails_high_height', 'snippet_channeltitle', 'snippet_livebroadcastcontent', 'snippet_publishtime', 'id_channelid'], axis=1, inplace=True)\n",
    "    if 'id_playlistid' in videos.columns:\n",
    "        videos.drop(['id_playlistid'], axis=1, inplace=True)\n",
    "    videos.rename(columns={'id_videoid' : 'id', 'snippet_publishedat' : 'date', 'snippet_title' : 'title', 'snippet_description' : 'description'}, inplace=True)    \n",
    "    videos['date'] = pd.to_datetime(videos['date'], errors='coerce')\n",
    "    print('Structure after cleaning:\\n')\n",
    "    print('Columns: ' + str(videos.columns))\n",
    "    print('Shape: ' + str(videos.shape))\n",
    "    print('Data types: ' + str(videos.dtypes))    \n",
    "    # save as pickle file\n",
    "    with open(channel_name + '_videolist_cleaned.pkl', 'wb') as f:\n",
    "        pickle.dump(videos, f)\n",
    "    print('saved as ' + channel_name + '_videolist_cleaned.pkl')\n",
    "    print('--------------------------------------------------')\n",
    "    return(videos)"
   ]
  },
  {
   "cell_type": "code",
   "execution_count": 2545,
   "id": "8172a932-312e-4c82-bae8-320a4323fba7",
   "metadata": {},
   "outputs": [],
   "source": [
    "with HiddenPrints():\n",
    "    lowko_clips_videolist = clean_videolist('lowko_clips')\n",
    "    harstem_casts_videolist = clean_videolist('harstem_casts')"
   ]
  },
  {
   "cell_type": "code",
   "execution_count": 2546,
   "id": "d4348d10-0272-4102-a539-e1660e4663df",
   "metadata": {},
   "outputs": [],
   "source": [
    "videos = harstem_casts_videolist"
   ]
  },
  {
   "cell_type": "code",
   "execution_count": 2547,
   "id": "416dd7db-d8d0-4306-86e1-607b265b3ca1",
   "metadata": {},
   "outputs": [
    {
     "data": {
      "text/plain": [
       "(479, 4)"
      ]
     },
     "execution_count": 2547,
     "metadata": {},
     "output_type": "execute_result"
    }
   ],
   "source": [
    "videos.shape"
   ]
  },
  {
   "cell_type": "markdown",
   "id": "c72329b9-c966-4b13-9802-67390828f4e0",
   "metadata": {},
   "source": [
    "### Get Channelstats"
   ]
  },
  {
   "cell_type": "code",
   "execution_count": 2548,
   "id": "10053611-8ba9-466b-8aa2-3d206c479d57",
   "metadata": {},
   "outputs": [],
   "source": [
    "# I don't use those data yet"
   ]
  },
  {
   "cell_type": "code",
   "execution_count": 2549,
   "id": "9171e18d-3f9b-4af1-9daa-9f5f64205cf7",
   "metadata": {},
   "outputs": [],
   "source": [
    "from googleapiclient.discovery import build"
   ]
  },
  {
   "cell_type": "code",
   "execution_count": 2550,
   "id": "a80d6d44-e368-4e1e-88f1-902e01a56f77",
   "metadata": {},
   "outputs": [],
   "source": [
    "youTubeApiKey = api_key\n",
    "youtube = build(\"youtube\",\"v3\",developerKey = youTubeApiKey)"
   ]
  },
  {
   "cell_type": "code",
   "execution_count": 2551,
   "id": "990f6f7c-f931-44d9-a351-136429426ff2",
   "metadata": {},
   "outputs": [],
   "source": [
    "channelUsername= 'HarstemCasts'\n",
    "# channelStats = youtube.channels().list(part = \"snippet,contentDetails,statistics\", id=harstem_casts).execute()"
   ]
  },
  {
   "cell_type": "code",
   "execution_count": 2552,
   "id": "f0fdcc57-eea2-493c-8ec7-0461aa8e3d13",
   "metadata": {},
   "outputs": [],
   "source": [
    "# channelStats"
   ]
  },
  {
   "cell_type": "markdown",
   "id": "44224d5b-de23-4a95-872e-5a52aa246793",
   "metadata": {},
   "source": [
    "### Get Videostats"
   ]
  },
  {
   "cell_type": "code",
   "execution_count": 2553,
   "id": "4b23ce4b-560b-48a4-9b13-0bbf96d548bf",
   "metadata": {},
   "outputs": [],
   "source": [
    "def get_videostats(api_key, channel_name):    \n",
    "    # Load id from pickle fle\n",
    "    with open(channel_name + '_videolist_cleaned.pkl', 'rb') as f:\n",
    "        videolist = pickle.load(f)\n",
    "    videoStatistics = []\n",
    "    print('Grab stats for ' + str(len(videolist['id'])) + ' videos')\n",
    "    i = 1\n",
    "    for video_id in videolist['id']:\n",
    "        if i % 50 == 0:\n",
    "            print('stats for 50 videos loaded')\n",
    "        i= i+1\n",
    "        videoData = youtube.videos().list(id=video_id,part = \"statistics\").execute()\n",
    "        videoStatistics.append(videoData[\"items\"][0][\"statistics\"])   \n",
    "    print('All stats loaded')\n",
    "    videoStatistics = pd.json_normalize(videoStatistics)    # save as pickle file\n",
    "    # save as pickle file\n",
    "    with open(channel_name + '_video_stats.pkl', 'wb') as f:\n",
    "        pickle.dump(videoStatistics, f)\n",
    "    print('saved as ' + channel_name + '_video_stats.pkl')    \n",
    "    return(videoStatistics)"
   ]
  },
  {
   "cell_type": "code",
   "execution_count": 2554,
   "id": "8bc5bbb5-a270-403f-982c-6881ed0f7c76",
   "metadata": {},
   "outputs": [],
   "source": [
    "# lowko_clips_video_stats = get_videostats(api_key, 'lowko_clips')\n",
    "# harstem_casts_video_stats = get_videostats(api_key, 'harstem_casts')"
   ]
  },
  {
   "cell_type": "markdown",
   "id": "cd671477-8ced-4aeb-97db-270b355bc17f",
   "metadata": {},
   "source": [
    "### Get Video duration"
   ]
  },
  {
   "cell_type": "code",
   "execution_count": 2555,
   "id": "95c28ce7-235e-4218-a41d-1911d44c94c0",
   "metadata": {},
   "outputs": [],
   "source": [
    "def get_videoduration(api_key, channel_name):    \n",
    "    # Load id from pickle fle\n",
    "    with open(channel_name + '_videolist_cleaned.pkl', 'rb') as f:\n",
    "        videolist = pickle.load(f)\n",
    "    i = 1\n",
    "    durations_as_string = []\n",
    "    print('Grab stats for ' + str(len(videolist['id'])) + ' videos')\n",
    "    for video_id in videolist['id']:\n",
    "        if i % 50 == 0:\n",
    "            print('durations for 50 videos loaded')\n",
    "        i = i+1\n",
    "        result = requests.get(\"https://www.googleapis.com/youtube/v3/videos?id=\" + video_id + \"&part=contentDetails&key=\" + api_key)\n",
    "        result = result.json()\n",
    "        result = pd.json_normalize(result)\n",
    "        duration = result['items'][0][0]['contentDetails']['duration']\n",
    "        durations_as_string.append(duration)\n",
    "        \n",
    "    # PLEEEEAAAAAAAAASE SHOW ME THE PYTHON WAY!!!!\n",
    "    durations = []\n",
    "    for duration in durations_as_string:\n",
    "        duration = duration.replace('PT', '')\n",
    "        position_S = duration.find('S')\n",
    "        position_M = duration.find('M')\n",
    "        position_H = duration.find('H')\n",
    "        if position_H != -1:\n",
    "            hours = duration[0:position_H]\n",
    "        else:\n",
    "            hours = 0\n",
    "        if position_M != -1:\n",
    "            minutes = duration[position_H+1:position_M]\n",
    "        else:\n",
    "            minutes = 0\n",
    "            position_M = position_H\n",
    "        if position_S != -1:\n",
    "            seconds = duration[position_M+1:position_S]\n",
    "        else: \n",
    "            seconds = 0\n",
    "        durations.append(int(hours) * 3600 + int(minutes) * 60 + int(seconds))    \n",
    "    # save as pickle file\n",
    "    with open(channel_name + '_video_durations.pkl', 'wb') as f:\n",
    "        pickle.dump(durations, f)\n",
    "    print('saved as ' + channel_name + '_video_durations.pkl')    \n",
    "    return(durations)"
   ]
  },
  {
   "cell_type": "code",
   "execution_count": 2556,
   "id": "31748299-8e8e-49b4-b704-d60931b76777",
   "metadata": {},
   "outputs": [],
   "source": [
    "# durations = get_videoduration(api_key, 'harstem_casts')\n",
    "# durations = get_videoduration(api_key, 'lowko_clips')"
   ]
  },
  {
   "cell_type": "code",
   "execution_count": 2557,
   "id": "ead75062-7d85-4fe0-a5ef-795a098f09f0",
   "metadata": {},
   "outputs": [],
   "source": [
    "# print(videos.shape)\n",
    "# print(len(durations))"
   ]
  },
  {
   "cell_type": "markdown",
   "id": "08a87ad3-4b97-48b6-90eb-59a0a0ef5099",
   "metadata": {},
   "source": [
    "### Merge Videolist & Stats"
   ]
  },
  {
   "cell_type": "code",
   "execution_count": 2558,
   "id": "d5a3efc0-0846-447e-9213-b8d71e94d499",
   "metadata": {},
   "outputs": [
    {
     "data": {
      "text/html": [
       "<div>\n",
       "<style scoped>\n",
       "    .dataframe tbody tr th:only-of-type {\n",
       "        vertical-align: middle;\n",
       "    }\n",
       "\n",
       "    .dataframe tbody tr th {\n",
       "        vertical-align: top;\n",
       "    }\n",
       "\n",
       "    .dataframe thead th {\n",
       "        text-align: right;\n",
       "    }\n",
       "</style>\n",
       "<table border=\"1\" class=\"dataframe\">\n",
       "  <thead>\n",
       "    <tr style=\"text-align: right;\">\n",
       "      <th></th>\n",
       "      <th>id</th>\n",
       "      <th>date</th>\n",
       "      <th>title</th>\n",
       "      <th>description</th>\n",
       "    </tr>\n",
       "  </thead>\n",
       "  <tbody>\n",
       "    <tr>\n",
       "      <th>0</th>\n",
       "      <td>hYEfllJWoHY</td>\n",
       "      <td>2022-05-20 21:03:09+00:00</td>\n",
       "      <td>INCREDIBLE Zerg vs Terran StarCraft II MATCH | Rogue (Z) vs Cure (T)</td>\n",
       "      <td>Thanks for watching this video. Please smash like as it helps me a lot, adios. Twitter: www.twitter.com/harstemsc2 Twitch: ...</td>\n",
       "    </tr>\n",
       "    <tr>\n",
       "      <th>1</th>\n",
       "      <td>hEk0zdpSRjc</td>\n",
       "      <td>2022-05-19 20:51:10+00:00</td>\n",
       "      <td>What Is This FACTORY Up TO? | SpeCial (T) vs Trap (P)</td>\n",
       "      <td>Thanks for watching this video. Please smash like as it helps me a lot, adios. Twitter: www.twitter.com/harstemsc2 Twitch: ...</td>\n",
       "    </tr>\n",
       "    <tr>\n",
       "      <th>2</th>\n",
       "      <td>61Nu9z6s6t8</td>\n",
       "      <td>2022-05-18 20:24:50+00:00</td>\n",
       "      <td>The 2019 KATOWICE Champion IS BACK | soO (Z) vs herO (P) best of 5</td>\n",
       "      <td>Thanks for watching this video. Please smash like as it helps me a lot, adios. Twitter: www.twitter.com/harstemsc2 Twitch: ...</td>\n",
       "    </tr>\n",
       "    <tr>\n",
       "      <th>3</th>\n",
       "      <td>KMmWlYHBwXw</td>\n",
       "      <td>2022-05-17 21:24:54+00:00</td>\n",
       "      <td>The #1 Protoss Plays MASS ORACLE And it works | Reynor (Z) vs herO (P)</td>\n",
       "      <td>Thanks for watching this video. Please smash like as it helps me a lot, adios. Twitter: www.twitter.com/harstemsc2 Twitch: ...</td>\n",
       "    </tr>\n",
       "    <tr>\n",
       "      <th>4</th>\n",
       "      <td>Ifw42gjWl7w</td>\n",
       "      <td>2022-05-16 19:58:09+00:00</td>\n",
       "      <td>Reynor And Maru Play a WILD Lategame</td>\n",
       "      <td>Thanks for watching this video. Please smash like as it helps me a lot, adios. Twitter: www.twitter.com/harstemsc2 Twitch: ...</td>\n",
       "    </tr>\n",
       "    <tr>\n",
       "      <th>...</th>\n",
       "      <td>...</td>\n",
       "      <td>...</td>\n",
       "      <td>...</td>\n",
       "      <td>...</td>\n",
       "    </tr>\n",
       "    <tr>\n",
       "      <th>474</th>\n",
       "      <td>xyC8RQgPlkY</td>\n",
       "      <td>2020-04-03 20:47:18+00:00</td>\n",
       "      <td>Serral MASS BANELING drops | Serral (Z) vs Harstem (P)</td>\n",
       "      <td>A game I played on Ladder vs Mr serral. I know I talk about myself in the third person. Weird to talk in first person when casting, but ...</td>\n",
       "    </tr>\n",
       "    <tr>\n",
       "      <th>475</th>\n",
       "      <td>wmo8ak8jmKo</td>\n",
       "      <td>2020-03-29 20:16:26+00:00</td>\n",
       "      <td>NYDUS WORMS never stop??  - Zest (P) vs SoO (Z)</td>\n",
       "      <td>In todays video we have Zest vs SoO. An absolutely wild Protoss vs Zerg in which a lot of the rules of traditional starcraft get ...</td>\n",
       "    </tr>\n",
       "    <tr>\n",
       "      <th>476</th>\n",
       "      <td>3ZPY6FbPgdo</td>\n",
       "      <td>2020-03-26 22:45:00+00:00</td>\n",
       "      <td>Carrier/phoenix vs TERRAN? Heromarine (T) vs Harstem (P)</td>\n",
       "      <td>Today we have a look at a ladder game I recently played on one of my smurf accounts vs Heromarine. Real fun game with skytoss ...</td>\n",
       "    </tr>\n",
       "    <tr>\n",
       "      <th>477</th>\n",
       "      <td>GVdBY_q7a60</td>\n",
       "      <td>2020-03-26 00:09:12+00:00</td>\n",
       "      <td>AGRESSIVE Protoss. Trap(p) vs Stats(p)</td>\n",
       "      <td>Today we have Trap vs Stats from this week's olimoleague. Fantastic game between two of the best protoss players in the world.</td>\n",
       "    </tr>\n",
       "    <tr>\n",
       "      <th>478</th>\n",
       "      <td>nc23QqlkDig</td>\n",
       "      <td>2020-03-24 21:42:48+00:00</td>\n",
       "      <td>CRAZY Skytoss LATEGAME. Reynor (Z) vs ShoWTimE (P)</td>\n",
       "      <td>In this epic PvZ lategame we have the best European protoss (ShoWTimE) taking on Reynor. Lots of action, lots of cool plays and ...</td>\n",
       "    </tr>\n",
       "  </tbody>\n",
       "</table>\n",
       "<p>479 rows × 4 columns</p>\n",
       "</div>"
      ],
      "text/plain": [
       "              id                      date  \\\n",
       "0    hYEfllJWoHY 2022-05-20 21:03:09+00:00   \n",
       "1    hEk0zdpSRjc 2022-05-19 20:51:10+00:00   \n",
       "2    61Nu9z6s6t8 2022-05-18 20:24:50+00:00   \n",
       "3    KMmWlYHBwXw 2022-05-17 21:24:54+00:00   \n",
       "4    Ifw42gjWl7w 2022-05-16 19:58:09+00:00   \n",
       "..           ...                       ...   \n",
       "474  xyC8RQgPlkY 2020-04-03 20:47:18+00:00   \n",
       "475  wmo8ak8jmKo 2020-03-29 20:16:26+00:00   \n",
       "476  3ZPY6FbPgdo 2020-03-26 22:45:00+00:00   \n",
       "477  GVdBY_q7a60 2020-03-26 00:09:12+00:00   \n",
       "478  nc23QqlkDig 2020-03-24 21:42:48+00:00   \n",
       "\n",
       "                                                                      title  \\\n",
       "0      INCREDIBLE Zerg vs Terran StarCraft II MATCH | Rogue (Z) vs Cure (T)   \n",
       "1                     What Is This FACTORY Up TO? | SpeCial (T) vs Trap (P)   \n",
       "2        The 2019 KATOWICE Champion IS BACK | soO (Z) vs herO (P) best of 5   \n",
       "3    The #1 Protoss Plays MASS ORACLE And it works | Reynor (Z) vs herO (P)   \n",
       "4                                      Reynor And Maru Play a WILD Lategame   \n",
       "..                                                                      ...   \n",
       "474                  Serral MASS BANELING drops | Serral (Z) vs Harstem (P)   \n",
       "475                         NYDUS WORMS never stop??  - Zest (P) vs SoO (Z)   \n",
       "476                Carrier/phoenix vs TERRAN? Heromarine (T) vs Harstem (P)   \n",
       "477                                  AGRESSIVE Protoss. Trap(p) vs Stats(p)   \n",
       "478                      CRAZY Skytoss LATEGAME. Reynor (Z) vs ShoWTimE (P)   \n",
       "\n",
       "                                                                                                                                     description  \n",
       "0                 Thanks for watching this video. Please smash like as it helps me a lot, adios. Twitter: www.twitter.com/harstemsc2 Twitch: ...  \n",
       "1                 Thanks for watching this video. Please smash like as it helps me a lot, adios. Twitter: www.twitter.com/harstemsc2 Twitch: ...  \n",
       "2                 Thanks for watching this video. Please smash like as it helps me a lot, adios. Twitter: www.twitter.com/harstemsc2 Twitch: ...  \n",
       "3                 Thanks for watching this video. Please smash like as it helps me a lot, adios. Twitter: www.twitter.com/harstemsc2 Twitch: ...  \n",
       "4                 Thanks for watching this video. Please smash like as it helps me a lot, adios. Twitter: www.twitter.com/harstemsc2 Twitch: ...  \n",
       "..                                                                                                                                           ...  \n",
       "474  A game I played on Ladder vs Mr serral. I know I talk about myself in the third person. Weird to talk in first person when casting, but ...  \n",
       "475         In todays video we have Zest vs SoO. An absolutely wild Protoss vs Zerg in which a lot of the rules of traditional starcraft get ...  \n",
       "476            Today we have a look at a ladder game I recently played on one of my smurf accounts vs Heromarine. Real fun game with skytoss ...  \n",
       "477               Today we have Trap vs Stats from this week's olimoleague. Fantastic game between two of the best protoss players in the world.  \n",
       "478          In this epic PvZ lategame we have the best European protoss (ShoWTimE) taking on Reynor. Lots of action, lots of cool plays and ...  \n",
       "\n",
       "[479 rows x 4 columns]"
      ]
     },
     "execution_count": 2558,
     "metadata": {},
     "output_type": "execute_result"
    }
   ],
   "source": [
    "videos"
   ]
  },
  {
   "cell_type": "code",
   "execution_count": 2559,
   "id": "fd9d52ed-c1be-4a31-9fe1-fafcfc706743",
   "metadata": {},
   "outputs": [],
   "source": [
    "# open pickle fle\n",
    "with open('harstem_casts_videolist_cleaned.pkl', 'rb') as f:\n",
    "    videos = pickle.load(f)\n",
    "    \n",
    "with open('harstem_casts_video_stats.pkl', 'rb') as f:\n",
    "    video_stats = pickle.load(f)\n",
    "\n",
    "with open('harstem_casts_video_durations.pkl', 'rb') as f:\n",
    "    video_durations = pickle.load(f)\n"
   ]
  },
  {
   "cell_type": "code",
   "execution_count": 2560,
   "id": "f8cc66db-a758-4556-bf5d-3ad3ace5e70c",
   "metadata": {},
   "outputs": [
    {
     "data": {
      "text/html": [
       "<div>\n",
       "<style scoped>\n",
       "    .dataframe tbody tr th:only-of-type {\n",
       "        vertical-align: middle;\n",
       "    }\n",
       "\n",
       "    .dataframe tbody tr th {\n",
       "        vertical-align: top;\n",
       "    }\n",
       "\n",
       "    .dataframe thead th {\n",
       "        text-align: right;\n",
       "    }\n",
       "</style>\n",
       "<table border=\"1\" class=\"dataframe\">\n",
       "  <thead>\n",
       "    <tr style=\"text-align: right;\">\n",
       "      <th></th>\n",
       "      <th>id</th>\n",
       "      <th>date</th>\n",
       "      <th>title</th>\n",
       "      <th>description</th>\n",
       "    </tr>\n",
       "  </thead>\n",
       "  <tbody>\n",
       "    <tr>\n",
       "      <th>288</th>\n",
       "      <td>5SG4BVKg6QU</td>\n",
       "      <td>2021-06-27 17:00:02+00:00</td>\n",
       "      <td>Neeblet (P) vs ShoWTimE (P) (Casters: MaxPax, Harstem, PtitDrogo) | The Biggest Loser Round of 8</td>\n",
       "      <td>The Biggest Loser is a $1001 USD tournament featuring 8 top notch StarCraft 2 pros playing in a single elimination, best of 5 ...</td>\n",
       "    </tr>\n",
       "    <tr>\n",
       "      <th>124</th>\n",
       "      <td>3Cerzb2q44w</td>\n",
       "      <td>2022-01-09 22:12:46+00:00</td>\n",
       "      <td>Classic Gives Byun a taste of CHEESE | ByuN (T) vs Classic (P)</td>\n",
       "      <td>Classic vs byun a cheese filled series. Delicious. Thanks for watching this video. Please smash like as it helps me a lot, adios.</td>\n",
       "    </tr>\n",
       "    <tr>\n",
       "      <th>53</th>\n",
       "      <td>Eafctvm3E2I</td>\n",
       "      <td>2022-03-25 22:54:19+00:00</td>\n",
       "      <td>Protoss INSANE Builds And Rogue&amp;#39;s ROACH All-in | Rogue (Z) vs herO (P)</td>\n",
       "      <td>Thanks for watching this video. Please smash like as it helps me a lot, adios. Twitter: www.twitter.com/harstemsc2 Twitch: ...</td>\n",
       "    </tr>\n",
       "  </tbody>\n",
       "</table>\n",
       "</div>"
      ],
      "text/plain": [
       "              id                      date  \\\n",
       "288  5SG4BVKg6QU 2021-06-27 17:00:02+00:00   \n",
       "124  3Cerzb2q44w 2022-01-09 22:12:46+00:00   \n",
       "53   Eafctvm3E2I 2022-03-25 22:54:19+00:00   \n",
       "\n",
       "                                                                                                title  \\\n",
       "288  Neeblet (P) vs ShoWTimE (P) (Casters: MaxPax, Harstem, PtitDrogo) | The Biggest Loser Round of 8   \n",
       "124                                    Classic Gives Byun a taste of CHEESE | ByuN (T) vs Classic (P)   \n",
       "53                         Protoss INSANE Builds And Rogue&#39;s ROACH All-in | Rogue (Z) vs herO (P)   \n",
       "\n",
       "                                                                                                                           description  \n",
       "288  The Biggest Loser is a $1001 USD tournament featuring 8 top notch StarCraft 2 pros playing in a single elimination, best of 5 ...  \n",
       "124  Classic vs byun a cheese filled series. Delicious. Thanks for watching this video. Please smash like as it helps me a lot, adios.  \n",
       "53      Thanks for watching this video. Please smash like as it helps me a lot, adios. Twitter: www.twitter.com/harstemsc2 Twitch: ...  "
      ]
     },
     "execution_count": 2560,
     "metadata": {},
     "output_type": "execute_result"
    }
   ],
   "source": [
    "videos.sample(3)"
   ]
  },
  {
   "cell_type": "code",
   "execution_count": 2561,
   "id": "b8d57249-c922-4f79-907b-0bc60a936c8f",
   "metadata": {},
   "outputs": [
    {
     "data": {
      "text/html": [
       "<div>\n",
       "<style scoped>\n",
       "    .dataframe tbody tr th:only-of-type {\n",
       "        vertical-align: middle;\n",
       "    }\n",
       "\n",
       "    .dataframe tbody tr th {\n",
       "        vertical-align: top;\n",
       "    }\n",
       "\n",
       "    .dataframe thead th {\n",
       "        text-align: right;\n",
       "    }\n",
       "</style>\n",
       "<table border=\"1\" class=\"dataframe\">\n",
       "  <thead>\n",
       "    <tr style=\"text-align: right;\">\n",
       "      <th></th>\n",
       "      <th>viewCount</th>\n",
       "      <th>likeCount</th>\n",
       "      <th>favoriteCount</th>\n",
       "      <th>commentCount</th>\n",
       "    </tr>\n",
       "  </thead>\n",
       "  <tbody>\n",
       "    <tr>\n",
       "      <th>92</th>\n",
       "      <td>16965</td>\n",
       "      <td>447</td>\n",
       "      <td>0</td>\n",
       "      <td>27</td>\n",
       "    </tr>\n",
       "    <tr>\n",
       "      <th>315</th>\n",
       "      <td>17771</td>\n",
       "      <td>477</td>\n",
       "      <td>0</td>\n",
       "      <td>42</td>\n",
       "    </tr>\n",
       "    <tr>\n",
       "      <th>439</th>\n",
       "      <td>3873</td>\n",
       "      <td>140</td>\n",
       "      <td>0</td>\n",
       "      <td>15</td>\n",
       "    </tr>\n",
       "  </tbody>\n",
       "</table>\n",
       "</div>"
      ],
      "text/plain": [
       "    viewCount likeCount favoriteCount commentCount\n",
       "92      16965       447             0           27\n",
       "315     17771       477             0           42\n",
       "439      3873       140             0           15"
      ]
     },
     "execution_count": 2561,
     "metadata": {},
     "output_type": "execute_result"
    }
   ],
   "source": [
    "video_stats.sample(3)"
   ]
  },
  {
   "cell_type": "code",
   "execution_count": 2562,
   "id": "ca8d7d23-969c-426a-ae03-50ec21a22286",
   "metadata": {},
   "outputs": [
    {
     "name": "stdout",
     "output_type": "stream",
     "text": [
      "(479, 4)\n",
      "(479, 4)\n",
      "479\n"
     ]
    }
   ],
   "source": [
    "print(videos.shape)\n",
    "print(video_stats.shape)\n",
    "print(len(video_durations))"
   ]
  },
  {
   "cell_type": "code",
   "execution_count": 2563,
   "id": "15043349-bb7b-4260-a80e-cf605a4f124b",
   "metadata": {},
   "outputs": [],
   "source": [
    "videos = pd.concat([videos, video_stats], axis=1)"
   ]
  },
  {
   "cell_type": "code",
   "execution_count": 2564,
   "id": "96e158a9-0944-4d58-a839-94e387fbea38",
   "metadata": {},
   "outputs": [],
   "source": [
    "videos['duration'] = video_durations"
   ]
  },
  {
   "cell_type": "code",
   "execution_count": 2565,
   "id": "3be67257-dc94-470e-af4e-6be7ad4d3c91",
   "metadata": {},
   "outputs": [],
   "source": [
    "videos['viewCount'] = pd.to_numeric(videos['viewCount'], errors='coerce')\n",
    "videos['likeCount'] = pd.to_numeric(videos['likeCount'], errors='coerce')\n",
    "videos['commentCount'] = pd.to_numeric(videos['commentCount'], errors='coerce')"
   ]
  },
  {
   "cell_type": "code",
   "execution_count": 2566,
   "id": "ebe2c59a-f3ed-4e64-a64a-9df646448d2c",
   "metadata": {},
   "outputs": [
    {
     "data": {
      "text/plain": [
       "id                            object\n",
       "date             datetime64[ns, UTC]\n",
       "title                         object\n",
       "description                   object\n",
       "viewCount                      int64\n",
       "likeCount                      int64\n",
       "favoriteCount                 object\n",
       "commentCount                   int64\n",
       "duration                       int64\n",
       "dtype: object"
      ]
     },
     "execution_count": 2566,
     "metadata": {},
     "output_type": "execute_result"
    }
   ],
   "source": [
    "videos.dtypes"
   ]
  },
  {
   "cell_type": "code",
   "execution_count": 2567,
   "id": "8043bb46-7b85-436f-9d5d-689d66d6798a",
   "metadata": {},
   "outputs": [],
   "source": [
    "videos['like_perc'] = videos['likeCount'] / videos['viewCount']\n",
    "videos['comment_perc'] = videos['commentCount'] / videos['viewCount']"
   ]
  },
  {
   "cell_type": "code",
   "execution_count": 2568,
   "id": "a6c96ffa-6bca-49e7-afa3-a65fe881d20c",
   "metadata": {},
   "outputs": [
    {
     "data": {
      "text/html": [
       "<div>\n",
       "<style scoped>\n",
       "    .dataframe tbody tr th:only-of-type {\n",
       "        vertical-align: middle;\n",
       "    }\n",
       "\n",
       "    .dataframe tbody tr th {\n",
       "        vertical-align: top;\n",
       "    }\n",
       "\n",
       "    .dataframe thead th {\n",
       "        text-align: right;\n",
       "    }\n",
       "</style>\n",
       "<table border=\"1\" class=\"dataframe\">\n",
       "  <thead>\n",
       "    <tr style=\"text-align: right;\">\n",
       "      <th></th>\n",
       "      <th>id</th>\n",
       "      <th>date</th>\n",
       "      <th>title</th>\n",
       "      <th>description</th>\n",
       "      <th>viewCount</th>\n",
       "      <th>likeCount</th>\n",
       "      <th>favoriteCount</th>\n",
       "      <th>commentCount</th>\n",
       "      <th>duration</th>\n",
       "      <th>like_perc</th>\n",
       "      <th>comment_perc</th>\n",
       "    </tr>\n",
       "  </thead>\n",
       "  <tbody>\n",
       "    <tr>\n",
       "      <th>188</th>\n",
       "      <td>7He6ENf-SSE</td>\n",
       "      <td>2021-11-02 22:52:55+00:00</td>\n",
       "      <td>Is Dream In Serral&amp;#39;s Brain? | Serral (Z) vs Dream (T)</td>\n",
       "      <td>Wanted to watch just one game, but then i decided to do the whole series because why not. Good stuff. Thanks for watching this ...</td>\n",
       "      <td>26138</td>\n",
       "      <td>621</td>\n",
       "      <td>0</td>\n",
       "      <td>35</td>\n",
       "      <td>2632</td>\n",
       "      <td>0.023759</td>\n",
       "      <td>0.001339</td>\n",
       "    </tr>\n",
       "    <tr>\n",
       "      <th>92</th>\n",
       "      <td>gRjjt-4eHcc</td>\n",
       "      <td>2022-02-12 23:02:57+00:00</td>\n",
       "      <td>herO&amp;#39;s Cheeses Keep ByuN On his Toes | ByuN (T) vs herO (P)</td>\n",
       "      <td>Thanks for watching this video. Please smash like as it helps me a lot, adios. Twitter: www.twitter.com/harstemsc2 Twitch: ...</td>\n",
       "      <td>16965</td>\n",
       "      <td>447</td>\n",
       "      <td>0</td>\n",
       "      <td>27</td>\n",
       "      <td>1570</td>\n",
       "      <td>0.026348</td>\n",
       "      <td>0.001592</td>\n",
       "    </tr>\n",
       "    <tr>\n",
       "      <th>376</th>\n",
       "      <td>PGLY_mjxE4U</td>\n",
       "      <td>2020-12-03 20:00:10+00:00</td>\n",
       "      <td>Serral And ShoWTimE Play an  EXTREMELY High Level Best Of 5</td>\n",
       "      <td>Serral vs ShoWTimE Best of 5 Insane games, insane plays. Beautiful. Thanks for watching this video. Please smash like as it ...</td>\n",
       "      <td>38105</td>\n",
       "      <td>759</td>\n",
       "      <td>0</td>\n",
       "      <td>71</td>\n",
       "      <td>3780</td>\n",
       "      <td>0.019919</td>\n",
       "      <td>0.001863</td>\n",
       "    </tr>\n",
       "  </tbody>\n",
       "</table>\n",
       "</div>"
      ],
      "text/plain": [
       "              id                      date  \\\n",
       "188  7He6ENf-SSE 2021-11-02 22:52:55+00:00   \n",
       "92   gRjjt-4eHcc 2022-02-12 23:02:57+00:00   \n",
       "376  PGLY_mjxE4U 2020-12-03 20:00:10+00:00   \n",
       "\n",
       "                                                               title  \\\n",
       "188        Is Dream In Serral&#39;s Brain? | Serral (Z) vs Dream (T)   \n",
       "92   herO&#39;s Cheeses Keep ByuN On his Toes | ByuN (T) vs herO (P)   \n",
       "376      Serral And ShoWTimE Play an  EXTREMELY High Level Best Of 5   \n",
       "\n",
       "                                                                                                                            description  \\\n",
       "188  Wanted to watch just one game, but then i decided to do the whole series because why not. Good stuff. Thanks for watching this ...   \n",
       "92       Thanks for watching this video. Please smash like as it helps me a lot, adios. Twitter: www.twitter.com/harstemsc2 Twitch: ...   \n",
       "376     Serral vs ShoWTimE Best of 5 Insane games, insane plays. Beautiful. Thanks for watching this video. Please smash like as it ...   \n",
       "\n",
       "     viewCount  likeCount favoriteCount  commentCount  duration  like_perc  \\\n",
       "188      26138        621             0            35      2632   0.023759   \n",
       "92       16965        447             0            27      1570   0.026348   \n",
       "376      38105        759             0            71      3780   0.019919   \n",
       "\n",
       "     comment_perc  \n",
       "188      0.001339  \n",
       "92       0.001592  \n",
       "376      0.001863  "
      ]
     },
     "execution_count": 2568,
     "metadata": {},
     "output_type": "execute_result"
    }
   ],
   "source": [
    "videos.sample(3)"
   ]
  },
  {
   "cell_type": "code",
   "execution_count": 2569,
   "id": "1689ec5c-5190-48c3-bac4-b92ad903edfd",
   "metadata": {},
   "outputs": [
    {
     "name": "stdout",
     "output_type": "stream",
     "text": [
      "(479, 11)\n",
      "id               0\n",
      "date             0\n",
      "title            0\n",
      "description      0\n",
      "viewCount        0\n",
      "likeCount        0\n",
      "favoriteCount    0\n",
      "commentCount     0\n",
      "duration         0\n",
      "like_perc        0\n",
      "comment_perc     0\n",
      "dtype: int64\n"
     ]
    }
   ],
   "source": [
    "print(videos.shape)\n",
    "print(videos.isnull().sum())"
   ]
  },
  {
   "cell_type": "code",
   "execution_count": 2570,
   "id": "0d6e345c-859f-4a48-95d1-92422dfed5f1",
   "metadata": {},
   "outputs": [
    {
     "name": "stdout",
     "output_type": "stream",
     "text": [
      "['0']\n"
     ]
    }
   ],
   "source": [
    "if \"favoriteCount\" in videos.columns:\n",
    "    print(videos['favoriteCount'].unique())\n",
    "    videos.drop(['favoriteCount'], axis=1, inplace=True)"
   ]
  },
  {
   "cell_type": "code",
   "execution_count": 2571,
   "id": "381aa93b-4619-4526-8635-afff21e29535",
   "metadata": {},
   "outputs": [],
   "source": [
    "if \"description\" in videos.columns:\n",
    "    videos.drop(['description'], axis=1, inplace=True)"
   ]
  },
  {
   "cell_type": "raw",
   "id": "7e93822f-f9ae-4f08-b708-15e14bd87ba6",
   "metadata": {},
   "source": [
    "with open('harstem_casts_videolist_with_stats.pkl', 'rb') as f:\n",
    "    videos = pickle.load(f)"
   ]
  },
  {
   "cell_type": "raw",
   "id": "8a07710a-24ca-4dba-bac0-bb91d2f42ea3",
   "metadata": {},
   "source": [
    "# save as pickle file\n",
    "with open('harstem_casts_videolist_with_stats.pkl', 'wb') as f:\n",
    "    pickle.dump(videos, f)"
   ]
  },
  {
   "cell_type": "markdown",
   "id": "3aac1f1d-c48a-40f7-a3cf-df34258eea9b",
   "metadata": {
    "tags": []
   },
   "source": [
    "## Get a list with pro player names"
   ]
  },
  {
   "cell_type": "markdown",
   "id": "c9551cf0-3aff-495a-9ac0-bbffcffa2773",
   "metadata": {},
   "source": [
    "### Grab player_list from TeamLiquid"
   ]
  },
  {
   "cell_type": "code",
   "execution_count": 2572,
   "id": "b6e30422-5192-4358-82fc-cc0fadf67840",
   "metadata": {},
   "outputs": [],
   "source": [
    "from bs4 import BeautifulSoup"
   ]
  },
  {
   "cell_type": "code",
   "execution_count": 2573,
   "id": "bcea8cdd-2738-4bd0-a6a8-bcf960efb905",
   "metadata": {},
   "outputs": [],
   "source": [
    "url = \"https://liquipedia.net/starcraft2/Players_(All)\""
   ]
  },
  {
   "cell_type": "raw",
   "id": "a8ce233d-5ead-488e-ace6-3e98f8412732",
   "metadata": {},
   "source": [
    "response = requests.get(url)\n",
    "response.status_code # 200 status code means OK!"
   ]
  },
  {
   "cell_type": "raw",
   "id": "36b05a1d-40ce-441e-a678-d3499699e8b9",
   "metadata": {},
   "source": [
    "# save as pickle file\n",
    "with open('teamliquid_response.pkl', 'wb') as f:\n",
    "    pickle.dump(response, f)"
   ]
  },
  {
   "cell_type": "code",
   "execution_count": 2574,
   "id": "70f11f73-950a-46f2-9be3-bc8bd6a7354d",
   "metadata": {},
   "outputs": [],
   "source": [
    "with open('teamliquid_response.pkl', 'rb') as f:\n",
    "    response = pickle.load(f)"
   ]
  },
  {
   "cell_type": "code",
   "execution_count": 2575,
   "id": "72727350-c1d4-4779-a4a8-4cede1f919f5",
   "metadata": {},
   "outputs": [],
   "source": [
    "soup = BeautifulSoup(response.content, \"html.parser\")"
   ]
  },
  {
   "cell_type": "code",
   "execution_count": 2576,
   "id": "5193291a-cc6b-4251-b230-d1e54000cec8",
   "metadata": {},
   "outputs": [
    {
     "data": {
      "text/plain": [
       "0"
      ]
     },
     "execution_count": 2576,
     "metadata": {},
     "output_type": "execute_result"
    }
   ],
   "source": [
    "player_ids_list = []\n",
    "for player_id in soup.select('table.wikitable > tbody > tr > td:nth-child(1) > a'):\n",
    "    player_ids_list.append(player_id.get_text())\n",
    "len(player_ids_list)"
   ]
  },
  {
   "cell_type": "code",
   "execution_count": 2577,
   "id": "dde00a2d-3451-4c7d-9107-96b9a2bf2fc3",
   "metadata": {},
   "outputs": [
    {
     "data": {
      "text/plain": [
       "0"
      ]
     },
     "execution_count": 2577,
     "metadata": {},
     "output_type": "execute_result"
    }
   ],
   "source": [
    "player_names_list = []\n",
    "for player_name in soup.select('table.wikitable > tbody > tr > td:nth-child(2)'):\n",
    "    player_names_list.append(player_name.get_text())\n",
    "len(player_names_list)"
   ]
  },
  {
   "cell_type": "code",
   "execution_count": 2578,
   "id": "ab564f4b-8a50-4aea-b68f-8bc86bf2c5e2",
   "metadata": {},
   "outputs": [
    {
     "data": {
      "text/plain": [
       "0"
      ]
     },
     "execution_count": 2578,
     "metadata": {},
     "output_type": "execute_result"
    }
   ],
   "source": [
    "player_teams_list = []\n",
    "for team in soup.select('table.wikitable > tbody > tr > td:nth-child(3)'):\n",
    "    player_teams_list.append(team.get_text())\n",
    "len(player_teams_list)"
   ]
  },
  {
   "cell_type": "code",
   "execution_count": 2579,
   "id": "90831225-65f3-4f64-8809-c850e08a0855",
   "metadata": {},
   "outputs": [
    {
     "data": {
      "text/plain": [
       "0"
      ]
     },
     "execution_count": 2579,
     "metadata": {},
     "output_type": "execute_result"
    }
   ],
   "source": [
    "player_race_list = []\n",
    "for race in soup.select('table.wikitable > tbody > tr > td:nth-child(4)'):\n",
    "    player_race_list.append(race.get_text())\n",
    "len(player_race_list)"
   ]
  },
  {
   "cell_type": "code",
   "execution_count": 2580,
   "id": "2bb65a7a-171a-42a8-8bbf-e0b61a455353",
   "metadata": {},
   "outputs": [
    {
     "data": {
      "text/plain": [
       "0"
      ]
     },
     "execution_count": 2580,
     "metadata": {},
     "output_type": "execute_result"
    }
   ],
   "source": [
    "# Won't use those for now\n",
    "# maybe interesting to automatically grab more data about each player lateron\n",
    "player_link_list = []\n",
    "for link in soup.select('table.wikitable > tbody > tr > td:nth-child(5)'):\n",
    "    player_link_list.append(link)\n",
    "len(player_link_list)"
   ]
  },
  {
   "cell_type": "code",
   "execution_count": 2581,
   "id": "d52d456d-386e-40ab-8370-25ca2e1fdf1c",
   "metadata": {},
   "outputs": [],
   "source": [
    "zipped = list(zip(player_ids_list, player_names_list, player_teams_list, player_race_list))\n",
    "players = pd.DataFrame(zipped, columns=['id', 'name', 'team', 'race'])"
   ]
  },
  {
   "cell_type": "code",
   "execution_count": 2582,
   "id": "1301b3e5-7c34-42e0-bcc6-8a809ae6b04a",
   "metadata": {},
   "outputs": [
    {
     "data": {
      "text/html": [
       "<div>\n",
       "<style scoped>\n",
       "    .dataframe tbody tr th:only-of-type {\n",
       "        vertical-align: middle;\n",
       "    }\n",
       "\n",
       "    .dataframe tbody tr th {\n",
       "        vertical-align: top;\n",
       "    }\n",
       "\n",
       "    .dataframe thead th {\n",
       "        text-align: right;\n",
       "    }\n",
       "</style>\n",
       "<table border=\"1\" class=\"dataframe\">\n",
       "  <thead>\n",
       "    <tr style=\"text-align: right;\">\n",
       "      <th></th>\n",
       "      <th>id</th>\n",
       "      <th>name</th>\n",
       "      <th>team</th>\n",
       "      <th>race</th>\n",
       "    </tr>\n",
       "  </thead>\n",
       "  <tbody>\n",
       "  </tbody>\n",
       "</table>\n",
       "</div>"
      ],
      "text/plain": [
       "Empty DataFrame\n",
       "Columns: [id, name, team, race]\n",
       "Index: []"
      ]
     },
     "execution_count": 2582,
     "metadata": {},
     "output_type": "execute_result"
    }
   ],
   "source": [
    "players"
   ]
  },
  {
   "cell_type": "code",
   "execution_count": 2583,
   "id": "b190c25e-5a95-4fd3-a407-15a3fa6cdbfb",
   "metadata": {},
   "outputs": [
    {
     "name": "stdout",
     "output_type": "stream",
     "text": [
      "Series([], Name: team, dtype: int64)\n"
     ]
    }
   ],
   "source": [
    "print(players['team'].value_counts())\n",
    "players[\"team\"].mask(players[\"team\"]  == 'ZZZZZ', 'no_team', inplace=True)"
   ]
  },
  {
   "cell_type": "code",
   "execution_count": 2584,
   "id": "24bc9e9a-ce74-423e-b890-2cbd78636275",
   "metadata": {},
   "outputs": [],
   "source": [
    "for col in players:\n",
    "    players[col]= players[col].str.strip()"
   ]
  },
  {
   "cell_type": "raw",
   "id": "abc39365-f8d2-4140-8285-e0d07e7d9718",
   "metadata": {},
   "source": [
    "# save pickle file\n",
    "with open('players_list.pkl', 'wb') as f:\n",
    "    pickle.dump(players, f)"
   ]
  },
  {
   "cell_type": "markdown",
   "id": "523c6ecc-73d8-4a61-b5cd-8fed2001527b",
   "metadata": {},
   "source": [
    "### Grab top 100 player_list from esportsearnings"
   ]
  },
  {
   "cell_type": "raw",
   "id": "37c35df4-f45a-4303-bd25-90079c5bc506",
   "metadata": {},
   "source": [
    "url = \"https://www.esportsearnings.com/games/151-starcraft-ii/top-players\"\n",
    "response = requests.get(url)\n",
    "response.status_code # 200 status code means OK!"
   ]
  },
  {
   "cell_type": "raw",
   "id": "f1971c41-08ba-403c-8a27-4d1547c4c1ed",
   "metadata": {},
   "source": [
    "# save as pickle file\n",
    "with open('esportsearning_response.pkl', 'wb') as f:\n",
    "    pickle.dump(response, f)"
   ]
  },
  {
   "cell_type": "code",
   "execution_count": 2585,
   "id": "efa6873b-cefc-4b37-823f-af5e8d29ebd8",
   "metadata": {},
   "outputs": [],
   "source": [
    "with open('esportsearning_response.pkl', 'rb') as f:\n",
    "    response = pickle.load(f)"
   ]
  },
  {
   "cell_type": "code",
   "execution_count": 2586,
   "id": "f3b5a779-2c12-48c9-8516-64226ce5e600",
   "metadata": {},
   "outputs": [],
   "source": [
    "soup = BeautifulSoup(response.content, \"html.parser\")"
   ]
  },
  {
   "cell_type": "code",
   "execution_count": 2587,
   "id": "006842c8-69b9-43eb-9e1a-68fb83027abc",
   "metadata": {},
   "outputs": [],
   "source": [
    "# Get player nicknames\n",
    "player_id = []\n",
    "for p_id in soup.select('table.detail_list_table > tbody > tr > td:nth-child(2) > a:nth-child(2)'):\n",
    "    player_id.append(p_id.get_text())\n",
    "    \n",
    "# Get player nicknames\n",
    "realname = []\n",
    "for rn in soup.select('table.detail_list_table > tbody > tr > td:nth-child(3)'):\n",
    "    realname.append(rn.get_text())\n",
    "    \n",
    "# Get lifetime winning\n",
    "winnings = []\n",
    "for w in soup.select('table.detail_list_table > tbody > tr > td:nth-child(4)'):\n",
    "    winnings.append(w.get_text())"
   ]
  },
  {
   "cell_type": "code",
   "execution_count": 2588,
   "id": "380f200d-9ab9-49c2-b69e-26c1bf70a4e4",
   "metadata": {},
   "outputs": [
    {
     "name": "stdout",
     "output_type": "stream",
     "text": [
      "100\n",
      "100\n",
      "100\n"
     ]
    }
   ],
   "source": [
    "print(len(player_id))\n",
    "print(len(realname))\n",
    "print(len(winnings))"
   ]
  },
  {
   "cell_type": "code",
   "execution_count": 2589,
   "id": "a9d3e8e6-1702-4120-bffb-154b60ef886c",
   "metadata": {},
   "outputs": [],
   "source": [
    "players_top100 = pd.DataFrame()\n",
    "players_top100['id'] = player_id\n",
    "players_top100['realname'] = realname\n",
    "players_top100['winnings'] = winnings"
   ]
  },
  {
   "cell_type": "raw",
   "id": "4b6a765d-c9df-48d4-9061-407f663e8d70",
   "metadata": {},
   "source": [
    "# save pickle file\n",
    "with open('players_top100_list.pkl', 'wb') as f:\n",
    "    pickle.dump(players_top100, f)"
   ]
  },
  {
   "cell_type": "markdown",
   "id": "0d1809c9-490b-4b1f-bfec-bcf9eb3cb71f",
   "metadata": {},
   "source": [
    "### Load player_list from pickle file"
   ]
  },
  {
   "cell_type": "markdown",
   "id": "0d8863ec-a28b-4934-9d7e-58b78a0dcae6",
   "metadata": {},
   "source": [
    "**BE AWARE!** <br>\n",
    "Dataframe players is loaded fom a pickle file<br>\n",
    "it's not collected in real time"
   ]
  },
  {
   "cell_type": "code",
   "execution_count": 2590,
   "id": "e153d7b9-bc7f-45c1-ba5a-7f6fbeadf904",
   "metadata": {},
   "outputs": [],
   "source": [
    "# open pickle fle\n",
    "with open('players_list.pkl', 'rb') as f:\n",
    "    players = pickle.load(f)\n",
    "\n",
    "with open('players_top100_list.pkl', 'rb') as f:\n",
    "    players_top100 = pickle.load(f)\n",
    "    "
   ]
  },
  {
   "cell_type": "code",
   "execution_count": 2591,
   "id": "c42734c3-3692-4bc2-b43a-239d50fec254",
   "metadata": {},
   "outputs": [
    {
     "data": {
      "text/html": [
       "<div>\n",
       "<style scoped>\n",
       "    .dataframe tbody tr th:only-of-type {\n",
       "        vertical-align: middle;\n",
       "    }\n",
       "\n",
       "    .dataframe tbody tr th {\n",
       "        vertical-align: top;\n",
       "    }\n",
       "\n",
       "    .dataframe thead th {\n",
       "        text-align: right;\n",
       "    }\n",
       "</style>\n",
       "<table border=\"1\" class=\"dataframe\">\n",
       "  <thead>\n",
       "    <tr style=\"text-align: right;\">\n",
       "      <th></th>\n",
       "      <th>id</th>\n",
       "      <th>name</th>\n",
       "      <th>team</th>\n",
       "      <th>race</th>\n",
       "    </tr>\n",
       "  </thead>\n",
       "  <tbody>\n",
       "    <tr>\n",
       "      <th>1311</th>\n",
       "      <td>Sea</td>\n",
       "      <td>Yum Bo-sung</td>\n",
       "      <td>no_team</td>\n",
       "      <td>Terran</td>\n",
       "    </tr>\n",
       "    <tr>\n",
       "      <th>518</th>\n",
       "      <td>MisterL</td>\n",
       "      <td></td>\n",
       "      <td>no_team</td>\n",
       "      <td>Protoss,Terran</td>\n",
       "    </tr>\n",
       "    <tr>\n",
       "      <th>1293</th>\n",
       "      <td>Revenge</td>\n",
       "      <td>Kim Kun</td>\n",
       "      <td>no_team</td>\n",
       "      <td>Terran</td>\n",
       "    </tr>\n",
       "  </tbody>\n",
       "</table>\n",
       "</div>"
      ],
      "text/plain": [
       "           id         name     team            race\n",
       "1311      Sea  Yum Bo-sung  no_team          Terran\n",
       "518   MisterL               no_team  Protoss,Terran\n",
       "1293  Revenge      Kim Kun  no_team          Terran"
      ]
     },
     "execution_count": 2591,
     "metadata": {},
     "output_type": "execute_result"
    }
   ],
   "source": [
    "players.sample(3)"
   ]
  },
  {
   "cell_type": "code",
   "execution_count": 2592,
   "id": "e192e329-acdd-4b55-ba88-8cce8a866b9d",
   "metadata": {},
   "outputs": [
    {
     "data": {
      "text/html": [
       "<div>\n",
       "<style scoped>\n",
       "    .dataframe tbody tr th:only-of-type {\n",
       "        vertical-align: middle;\n",
       "    }\n",
       "\n",
       "    .dataframe tbody tr th {\n",
       "        vertical-align: top;\n",
       "    }\n",
       "\n",
       "    .dataframe thead th {\n",
       "        text-align: right;\n",
       "    }\n",
       "</style>\n",
       "<table border=\"1\" class=\"dataframe\">\n",
       "  <thead>\n",
       "    <tr style=\"text-align: right;\">\n",
       "      <th></th>\n",
       "      <th>id</th>\n",
       "      <th>realname</th>\n",
       "      <th>winnings</th>\n",
       "    </tr>\n",
       "  </thead>\n",
       "  <tbody>\n",
       "    <tr>\n",
       "      <th>66</th>\n",
       "      <td>PtitDrogo</td>\n",
       "      <td>Théo Freydière</td>\n",
       "      <td>$137,741.63</td>\n",
       "    </tr>\n",
       "    <tr>\n",
       "      <th>18</th>\n",
       "      <td>Solar</td>\n",
       "      <td>Kang, Min Soo</td>\n",
       "      <td>$446,299.50</td>\n",
       "    </tr>\n",
       "    <tr>\n",
       "      <th>94</th>\n",
       "      <td>Squirtle</td>\n",
       "      <td>Park, Hyun Woo</td>\n",
       "      <td>$92,282.22</td>\n",
       "    </tr>\n",
       "  </tbody>\n",
       "</table>\n",
       "</div>"
      ],
      "text/plain": [
       "           id        realname     winnings\n",
       "66  PtitDrogo  Théo Freydière  $137,741.63\n",
       "18      Solar   Kang, Min Soo  $446,299.50\n",
       "94   Squirtle  Park, Hyun Woo   $92,282.22"
      ]
     },
     "execution_count": 2592,
     "metadata": {},
     "output_type": "execute_result"
    }
   ],
   "source": [
    "players_top100.sample(3)"
   ]
  },
  {
   "cell_type": "markdown",
   "id": "38e5c27f-9f41-4b0c-983e-2aa62db025de",
   "metadata": {},
   "source": [
    "# Extract data from title"
   ]
  },
  {
   "cell_type": "markdown",
   "id": "845f2e36-c031-4d02-8e71-eb8e2ced1df3",
   "metadata": {},
   "source": [
    "## Get player names from title"
   ]
  },
  {
   "cell_type": "markdown",
   "id": "377f8309-fb53-404d-8257-d1502f9ad6de",
   "metadata": {},
   "source": [
    "### Automatically"
   ]
  },
  {
   "cell_type": "code",
   "execution_count": 2593,
   "id": "f0d8baef-962d-4901-b515-4fa17f0e5883",
   "metadata": {},
   "outputs": [
    {
     "data": {
      "text/plain": [
       "221                                    Can MaxPax stop Clem&#39;s Multitask\n",
       "64           Dream&#39;s FAKE Mech Opener vs Solar | Solar (Z) vs Dream (T)\n",
       "297    An Unorthodox Protoss vs Zerg Lategame | Bly (Z) vs FightingFrog (P)\n",
       "Name: title, dtype: object"
      ]
     },
     "execution_count": 2593,
     "metadata": {},
     "output_type": "execute_result"
    }
   ],
   "source": [
    "videos['title'].sample(3)"
   ]
  },
  {
   "cell_type": "code",
   "execution_count": 2594,
   "id": "92059d4d-e629-4562-89f9-bf16bf2998f6",
   "metadata": {},
   "outputs": [
    {
     "data": {
      "text/html": [
       "<div>\n",
       "<style scoped>\n",
       "    .dataframe tbody tr th:only-of-type {\n",
       "        vertical-align: middle;\n",
       "    }\n",
       "\n",
       "    .dataframe tbody tr th {\n",
       "        vertical-align: top;\n",
       "    }\n",
       "\n",
       "    .dataframe thead th {\n",
       "        text-align: right;\n",
       "    }\n",
       "</style>\n",
       "<table border=\"1\" class=\"dataframe\">\n",
       "  <thead>\n",
       "    <tr style=\"text-align: right;\">\n",
       "      <th></th>\n",
       "      <th>id</th>\n",
       "      <th>name</th>\n",
       "      <th>team</th>\n",
       "      <th>race</th>\n",
       "    </tr>\n",
       "  </thead>\n",
       "  <tbody>\n",
       "    <tr>\n",
       "      <th>652</th>\n",
       "      <td>SpeCial</td>\n",
       "      <td>Juan Carlos Tena Lopez</td>\n",
       "      <td>PSISTORM Gaming</td>\n",
       "      <td>Terran</td>\n",
       "    </tr>\n",
       "  </tbody>\n",
       "</table>\n",
       "</div>"
      ],
      "text/plain": [
       "          id                    name             team    race\n",
       "652  SpeCial  Juan Carlos Tena Lopez  PSISTORM Gaming  Terran"
      ]
     },
     "execution_count": 2594,
     "metadata": {},
     "output_type": "execute_result"
    }
   ],
   "source": [
    "players[players['id'] == 'SpeCial']"
   ]
  },
  {
   "cell_type": "code",
   "execution_count": 2595,
   "id": "b7937159-3f26-437f-80b4-990a3423ddd9",
   "metadata": {},
   "outputs": [
    {
     "name": "stdout",
     "output_type": "stream",
     "text": [
      "0\n",
      "0\n"
     ]
    }
   ],
   "source": [
    "print(videos['title'].isna().sum())\n",
    "print(players['id'].isna().sum())"
   ]
  },
  {
   "cell_type": "code",
   "execution_count": 2596,
   "id": "1af4a7d3-765c-4211-99a9-c4c330eae383",
   "metadata": {},
   "outputs": [],
   "source": [
    "#todo: fix participants\n",
    "# - remove doubles\n",
    "# - check for spelling\n",
    "# - replaces missing with 'unknown player', \n",
    "# - maybe differentiate between 'unknown player' and 'not named player'\n",
    "# - add barcode players   \n",
    "\n",
    "### first check for exact names with exact spelling\n",
    "## if less than two participants \n",
    "# ignore cases\n",
    "# \n",
    "## if more than two"
   ]
  },
  {
   "cell_type": "code",
   "execution_count": 2597,
   "id": "78360cf3-1029-4b00-9ab6-74e4d5c925c0",
   "metadata": {},
   "outputs": [],
   "source": [
    "# videos_copy = videos.copy()\n",
    "\n",
    "# videos = videos.iloc[0:100]"
   ]
  },
  {
   "cell_type": "raw",
   "id": "926072c6-fee1-4fee-96f1-5252a565b7d1",
   "metadata": {},
   "source": [
    "# Get player names from title\n",
    "# first compare (casesensitive) with top100 list, then with full ist\n",
    "# then compare same (not casesensitive)\n",
    "# then fill up games with less than 2 participants with 'unknown'\n",
    "participant_list = []\n",
    "participant_count = []\n",
    "for title in videos['title']:\n",
    "    participants_per_game = []\n",
    "    # Check for Top100 players\n",
    "    for player in players_top100['id']:\n",
    "        if re.search(player, title):\n",
    "            if player not in participants_per_game:\n",
    "                participants_per_game.append(player)\n",
    "    # check for all player\n",
    "    if len(participants_per_game) < 2:\n",
    "        for player in players['id']:\n",
    "            if re.search(player, title):\n",
    "                if player not in participants_per_game:                    \n",
    "                    participants_per_game.append(player)\n",
    "    # check for top100 players (ignorecases)\n",
    "    if len(participants_per_game) < 2:\n",
    "        for player in players_top100['id']:\n",
    "            if re.search(player, title, re.IGNORECASE):\n",
    "                if player not in participants_per_game:                    \n",
    "                    participants_per_game.append(player)\n",
    "    # check for all players (ignorecases)\n",
    "    if len(participants_per_game) < 2:\n",
    "        for player in players['id']:\n",
    "            if re.search(player, title, re.IGNORECASE):\n",
    "                if player not in participants_per_game:                    \n",
    "                    participants_per_game.append(player)  \n",
    "    while len(participants_per_game) < 2:\n",
    "        participants_per_game.append('unknown')                \n",
    "    participant_count.append(len(participants_per_game))\n",
    "    participant_list.append(participants_per_game)"
   ]
  },
  {
   "cell_type": "raw",
   "id": "68d19e4f-1bca-4cc6-9327-d28d2f9d72c2",
   "metadata": {},
   "source": [
    "# save as pickle file\n",
    "with open('temp_participant_count.pkl', 'wb') as f:\n",
    "    pickle.dump(participant_count, f)"
   ]
  },
  {
   "cell_type": "raw",
   "id": "e9e5a4f4-b5fd-4362-8d73-aff09d87fb55",
   "metadata": {},
   "source": [
    "# save as pickle file\n",
    "with open('temp_participant_list.pkl', 'wb') as f:\n",
    "    pickle.dump(participant_list, f)"
   ]
  },
  {
   "cell_type": "code",
   "execution_count": 2598,
   "id": "74099803-40ff-4504-9cf2-bcc9f3f46aa8",
   "metadata": {},
   "outputs": [],
   "source": [
    "with open('temp_participant_count.pkl', 'rb') as f:\n",
    "    participant_count = pickle.load(f)"
   ]
  },
  {
   "cell_type": "code",
   "execution_count": 2599,
   "id": "72ecf11e-8b58-498c-837c-9efd29ac0c3f",
   "metadata": {},
   "outputs": [],
   "source": [
    "with open('temp_participant_list.pkl', 'rb') as f:\n",
    "    participant_list = pickle.load(f)"
   ]
  },
  {
   "cell_type": "code",
   "execution_count": 2600,
   "id": "f87872ac-75c4-4099-83ce-bee96f0f80ed",
   "metadata": {},
   "outputs": [
    {
     "name": "stdout",
     "output_type": "stream",
     "text": [
      "(479, 9)\n",
      "479\n",
      "479\n"
     ]
    }
   ],
   "source": [
    "print(videos.shape)\n",
    "print(len(participant_list))\n",
    "print(len(participant_count))"
   ]
  },
  {
   "cell_type": "code",
   "execution_count": 2601,
   "id": "59107f3d-c51b-4da2-88d5-cee9558074ab",
   "metadata": {},
   "outputs": [],
   "source": [
    "%%capture --no-display\n",
    "videos['participants'] = participant_list\n",
    "videos['participant_count'] = participant_count"
   ]
  },
  {
   "cell_type": "code",
   "execution_count": 2602,
   "id": "b4bb295e-022a-47c8-bff2-3914b616bafa",
   "metadata": {},
   "outputs": [
    {
     "data": {
      "text/html": [
       "<div>\n",
       "<style scoped>\n",
       "    .dataframe tbody tr th:only-of-type {\n",
       "        vertical-align: middle;\n",
       "    }\n",
       "\n",
       "    .dataframe tbody tr th {\n",
       "        vertical-align: top;\n",
       "    }\n",
       "\n",
       "    .dataframe thead th {\n",
       "        text-align: right;\n",
       "    }\n",
       "</style>\n",
       "<table border=\"1\" class=\"dataframe\">\n",
       "  <thead>\n",
       "    <tr style=\"text-align: right;\">\n",
       "      <th></th>\n",
       "      <th>id</th>\n",
       "      <th>date</th>\n",
       "      <th>title</th>\n",
       "      <th>viewCount</th>\n",
       "      <th>likeCount</th>\n",
       "      <th>commentCount</th>\n",
       "      <th>duration</th>\n",
       "      <th>like_perc</th>\n",
       "      <th>comment_perc</th>\n",
       "      <th>participants</th>\n",
       "      <th>participant_count</th>\n",
       "    </tr>\n",
       "  </thead>\n",
       "  <tbody>\n",
       "    <tr>\n",
       "      <th>261</th>\n",
       "      <td>DJuP1KhBJM0</td>\n",
       "      <td>2021-08-03 20:15:00+00:00</td>\n",
       "      <td>Bly And MaxPax Go WILD | MaxPax (P) vs Bly (Z)</td>\n",
       "      <td>19117</td>\n",
       "      <td>720</td>\n",
       "      <td>73</td>\n",
       "      <td>1495</td>\n",
       "      <td>0.037663</td>\n",
       "      <td>0.003819</td>\n",
       "      <td>[Bly, MaxPax]</td>\n",
       "      <td>2</td>\n",
       "    </tr>\n",
       "    <tr>\n",
       "      <th>167</th>\n",
       "      <td>mO406-7yMdI</td>\n",
       "      <td>2021-11-24 21:56:19+00:00</td>\n",
       "      <td>The Marauder Cancel That Saved The Game | Time(T) vs Ragnarok(Z)</td>\n",
       "      <td>12093</td>\n",
       "      <td>399</td>\n",
       "      <td>13</td>\n",
       "      <td>1055</td>\n",
       "      <td>0.032994</td>\n",
       "      <td>0.001075</td>\n",
       "      <td>[TIME, RagnaroK]</td>\n",
       "      <td>2</td>\n",
       "    </tr>\n",
       "    <tr>\n",
       "      <th>148</th>\n",
       "      <td>dm_xXyWI4-Q</td>\n",
       "      <td>2021-12-15 23:10:50+00:00</td>\n",
       "      <td>Zoun&amp;#39;s HIDDEN Dark Shrine | Zest (P) vs Zoun (P)</td>\n",
       "      <td>10298</td>\n",
       "      <td>336</td>\n",
       "      <td>23</td>\n",
       "      <td>1071</td>\n",
       "      <td>0.032628</td>\n",
       "      <td>0.002233</td>\n",
       "      <td>[Dark, Zest]</td>\n",
       "      <td>2</td>\n",
       "    </tr>\n",
       "    <tr>\n",
       "      <th>211</th>\n",
       "      <td>b5DnAjdIItE</td>\n",
       "      <td>2021-10-04 21:31:18+00:00</td>\n",
       "      <td>Can Clem Deal With BLINK DTS?! | MaxPax (P)  vs Clem (T)</td>\n",
       "      <td>16904</td>\n",
       "      <td>577</td>\n",
       "      <td>28</td>\n",
       "      <td>1412</td>\n",
       "      <td>0.034134</td>\n",
       "      <td>0.001656</td>\n",
       "      <td>[Clem, MaxPax]</td>\n",
       "      <td>2</td>\n",
       "    </tr>\n",
       "    <tr>\n",
       "      <th>335</th>\n",
       "      <td>dh7jQPGdwiM</td>\n",
       "      <td>2021-03-08 18:00:09+00:00</td>\n",
       "      <td>The Most AGRESSIVE Best of 5 | Parting (P) vs TYTY (T)</td>\n",
       "      <td>10398</td>\n",
       "      <td>394</td>\n",
       "      <td>48</td>\n",
       "      <td>1873</td>\n",
       "      <td>0.037892</td>\n",
       "      <td>0.004616</td>\n",
       "      <td>[TY, PartinG]</td>\n",
       "      <td>2</td>\n",
       "    </tr>\n",
       "    <tr>\n",
       "      <th>200</th>\n",
       "      <td>VyRIxRFQqIA</td>\n",
       "      <td>2021-10-18 21:16:27+00:00</td>\n",
       "      <td>Rogue And Byun Speedrun best of 5 | ByuN(T) vs Rogue(Z)</td>\n",
       "      <td>15550</td>\n",
       "      <td>600</td>\n",
       "      <td>34</td>\n",
       "      <td>911</td>\n",
       "      <td>0.038585</td>\n",
       "      <td>0.002186</td>\n",
       "      <td>[Rogue, ByuN]</td>\n",
       "      <td>2</td>\n",
       "    </tr>\n",
       "    <tr>\n",
       "      <th>83</th>\n",
       "      <td>ZreldrLl-rc</td>\n",
       "      <td>2022-02-21 18:00:13+00:00</td>\n",
       "      <td>This New MAP Is Beautiful | Solar (Z) vs Spirit (T)</td>\n",
       "      <td>11189</td>\n",
       "      <td>372</td>\n",
       "      <td>28</td>\n",
       "      <td>984</td>\n",
       "      <td>0.033247</td>\n",
       "      <td>0.002502</td>\n",
       "      <td>[Solar, Spirit, New]</td>\n",
       "      <td>3</td>\n",
       "    </tr>\n",
       "    <tr>\n",
       "      <th>291</th>\n",
       "      <td>gG1PtY3evT8</td>\n",
       "      <td>2021-06-20 17:00:18+00:00</td>\n",
       "      <td>When A Cannonrusher Plays Macro | Strange (P) vs KingCobra (P)</td>\n",
       "      <td>6074</td>\n",
       "      <td>264</td>\n",
       "      <td>19</td>\n",
       "      <td>779</td>\n",
       "      <td>0.043464</td>\n",
       "      <td>0.003128</td>\n",
       "      <td>[KingCobra, Strange]</td>\n",
       "      <td>2</td>\n",
       "    </tr>\n",
       "    <tr>\n",
       "      <th>411</th>\n",
       "      <td>88X7MCYqwww</td>\n",
       "      <td>2020-08-05 17:00:04+00:00</td>\n",
       "      <td>StarCraft 2: Dark vs Taeja</td>\n",
       "      <td>14746</td>\n",
       "      <td>424</td>\n",
       "      <td>35</td>\n",
       "      <td>1169</td>\n",
       "      <td>0.028754</td>\n",
       "      <td>0.002374</td>\n",
       "      <td>[Dark, TaeJa]</td>\n",
       "      <td>2</td>\n",
       "    </tr>\n",
       "    <tr>\n",
       "      <th>316</th>\n",
       "      <td>AGGa99lvh30</td>\n",
       "      <td>2021-04-20 17:10:26+00:00</td>\n",
       "      <td>Clem (T) vs Elazer (Z)</td>\n",
       "      <td>7482</td>\n",
       "      <td>303</td>\n",
       "      <td>27</td>\n",
       "      <td>1329</td>\n",
       "      <td>0.040497</td>\n",
       "      <td>0.003609</td>\n",
       "      <td>[Elazer, Clem]</td>\n",
       "      <td>2</td>\n",
       "    </tr>\n",
       "  </tbody>\n",
       "</table>\n",
       "</div>"
      ],
      "text/plain": [
       "              id                      date  \\\n",
       "261  DJuP1KhBJM0 2021-08-03 20:15:00+00:00   \n",
       "167  mO406-7yMdI 2021-11-24 21:56:19+00:00   \n",
       "148  dm_xXyWI4-Q 2021-12-15 23:10:50+00:00   \n",
       "211  b5DnAjdIItE 2021-10-04 21:31:18+00:00   \n",
       "335  dh7jQPGdwiM 2021-03-08 18:00:09+00:00   \n",
       "200  VyRIxRFQqIA 2021-10-18 21:16:27+00:00   \n",
       "83   ZreldrLl-rc 2022-02-21 18:00:13+00:00   \n",
       "291  gG1PtY3evT8 2021-06-20 17:00:18+00:00   \n",
       "411  88X7MCYqwww 2020-08-05 17:00:04+00:00   \n",
       "316  AGGa99lvh30 2021-04-20 17:10:26+00:00   \n",
       "\n",
       "                                                                title  \\\n",
       "261                    Bly And MaxPax Go WILD | MaxPax (P) vs Bly (Z)   \n",
       "167  The Marauder Cancel That Saved The Game | Time(T) vs Ragnarok(Z)   \n",
       "148              Zoun&#39;s HIDDEN Dark Shrine | Zest (P) vs Zoun (P)   \n",
       "211          Can Clem Deal With BLINK DTS?! | MaxPax (P)  vs Clem (T)   \n",
       "335            The Most AGRESSIVE Best of 5 | Parting (P) vs TYTY (T)   \n",
       "200           Rogue And Byun Speedrun best of 5 | ByuN(T) vs Rogue(Z)   \n",
       "83                This New MAP Is Beautiful | Solar (Z) vs Spirit (T)   \n",
       "291    When A Cannonrusher Plays Macro | Strange (P) vs KingCobra (P)   \n",
       "411                                        StarCraft 2: Dark vs Taeja   \n",
       "316                                            Clem (T) vs Elazer (Z)   \n",
       "\n",
       "     viewCount  likeCount  commentCount  duration  like_perc  comment_perc  \\\n",
       "261      19117        720            73      1495   0.037663      0.003819   \n",
       "167      12093        399            13      1055   0.032994      0.001075   \n",
       "148      10298        336            23      1071   0.032628      0.002233   \n",
       "211      16904        577            28      1412   0.034134      0.001656   \n",
       "335      10398        394            48      1873   0.037892      0.004616   \n",
       "200      15550        600            34       911   0.038585      0.002186   \n",
       "83       11189        372            28       984   0.033247      0.002502   \n",
       "291       6074        264            19       779   0.043464      0.003128   \n",
       "411      14746        424            35      1169   0.028754      0.002374   \n",
       "316       7482        303            27      1329   0.040497      0.003609   \n",
       "\n",
       "             participants  participant_count  \n",
       "261         [Bly, MaxPax]                  2  \n",
       "167      [TIME, RagnaroK]                  2  \n",
       "148          [Dark, Zest]                  2  \n",
       "211        [Clem, MaxPax]                  2  \n",
       "335         [TY, PartinG]                  2  \n",
       "200         [Rogue, ByuN]                  2  \n",
       "83   [Solar, Spirit, New]                  3  \n",
       "291  [KingCobra, Strange]                  2  \n",
       "411         [Dark, TaeJa]                  2  \n",
       "316        [Elazer, Clem]                  2  "
      ]
     },
     "execution_count": 2602,
     "metadata": {},
     "output_type": "execute_result"
    }
   ],
   "source": [
    "videos.sample(10)"
   ]
  },
  {
   "cell_type": "code",
   "execution_count": 2603,
   "id": "8caeeff7-6d3f-4dce-bc38-fe6cab82b723",
   "metadata": {},
   "outputs": [
    {
     "data": {
      "text/html": [
       "<div>\n",
       "<style scoped>\n",
       "    .dataframe tbody tr th:only-of-type {\n",
       "        vertical-align: middle;\n",
       "    }\n",
       "\n",
       "    .dataframe tbody tr th {\n",
       "        vertical-align: top;\n",
       "    }\n",
       "\n",
       "    .dataframe thead th {\n",
       "        text-align: right;\n",
       "    }\n",
       "</style>\n",
       "<table border=\"1\" class=\"dataframe\">\n",
       "  <thead>\n",
       "    <tr style=\"text-align: right;\">\n",
       "      <th></th>\n",
       "      <th>id</th>\n",
       "      <th>date</th>\n",
       "      <th>title</th>\n",
       "      <th>viewCount</th>\n",
       "      <th>likeCount</th>\n",
       "      <th>commentCount</th>\n",
       "      <th>duration</th>\n",
       "      <th>like_perc</th>\n",
       "      <th>comment_perc</th>\n",
       "      <th>participants</th>\n",
       "      <th>participant_count</th>\n",
       "    </tr>\n",
       "  </thead>\n",
       "  <tbody>\n",
       "  </tbody>\n",
       "</table>\n",
       "</div>"
      ],
      "text/plain": [
       "Empty DataFrame\n",
       "Columns: [id, date, title, viewCount, likeCount, commentCount, duration, like_perc, comment_perc, participants, participant_count]\n",
       "Index: []"
      ]
     },
     "execution_count": 2603,
     "metadata": {},
     "output_type": "execute_result"
    }
   ],
   "source": [
    "videos[videos['participant_count'] < 2]"
   ]
  },
  {
   "cell_type": "code",
   "execution_count": 2604,
   "id": "6b720a1b-b5f1-442b-81e5-65a0a1c561fe",
   "metadata": {},
   "outputs": [
    {
     "data": {
      "text/plain": [
       "2                      [soO, herO, Cham]\n",
       "20              [Zest, GuMiho, Has, san]\n",
       "23                    [Solar, herO, Has]\n",
       "32                   [Classic, Cure, XY]\n",
       "34                    [ByuN, herO, HerO]\n",
       "                     ...                \n",
       "451               [Clem, ShoWTimE, TIME]\n",
       "457             [Elazer, ShoWTimE, TIME]\n",
       "458     [Reynor, herO, HerO, HeRoMaRinE]\n",
       "469     [Serral, herO, HerO, HeRoMaRinE]\n",
       "476    [Harstem, herO, HerO, HeRoMaRinE]\n",
       "Name: participants, Length: 73, dtype: object"
      ]
     },
     "execution_count": 2604,
     "metadata": {},
     "output_type": "execute_result"
    }
   ],
   "source": [
    "videos['participants'][videos['participant_count'] > 2]"
   ]
  },
  {
   "cell_type": "code",
   "execution_count": 2605,
   "id": "08033326-fca8-4267-85db-ae6353ce2288",
   "metadata": {},
   "outputs": [],
   "source": [
    "# Remove doubles and & remove short player names when longer playername exists, e.g. time and showtime, hero and heromarine\n",
    "participant_list = []\n",
    "participant_count = []\n",
    "for participants in videos['participants'][videos['participant_count'] > 2]:\n",
    "    # print('Old list ' + str(participants))\n",
    "    participants_lowercases = [x.lower() for x in participants]\n",
    "    participants = list(set(participants_lowercases))\n",
    "    # print('New list ' + str(participants))  # removed doubles\n",
    "    participants_per_game = []\n",
    "    for player in participants:\n",
    "        other_participants = participants.copy()  \n",
    "        other_participants.remove(player)       \n",
    "        # check if this playername is part of another playername like \"time\" and \"showtime\" or \"hero\" and \"heromarine\"\n",
    "        # print('check if ' + player + ' is in ' + str(other_participants))        \n",
    "        r = re.compile(player, re.IGNORECASE)\n",
    "        longer_player_name = list(filter(r.match, other_participants))        \n",
    "        # print(list(map(r.match, other_participants)))\n",
    "        # hardcoded: remove player time when player showtime is also in the list \n",
    "        if 'time' in participants and 'showtime' in participants:\n",
    "            participants.remove('time')\n",
    "        # because I run into some odd problems        \n",
    "        if longer_player_name:\n",
    "            participants.remove(player)\n",
    "            # print('Player to delete: ' + player)\n",
    "            # print('Longer player name: ' + str(longer_player_name))\n",
    "    participant_count.append(len(participants))\n",
    "    participant_list.append(participants)\n",
    "    # print(str(participants) + '\\n')\n",
    "    "
   ]
  },
  {
   "cell_type": "code",
   "execution_count": 2606,
   "id": "210501ba-6302-4a86-9423-55ba0fa87cd2",
   "metadata": {},
   "outputs": [
    {
     "name": "stdout",
     "output_type": "stream",
     "text": [
      "(73,)\n",
      "73\n",
      "73\n"
     ]
    }
   ],
   "source": [
    "print(videos['participants'][videos['participant_count'] > 2].shape)\n",
    "print(len(participant_list))\n",
    "print(len(participant_count))\n"
   ]
  },
  {
   "cell_type": "code",
   "execution_count": 2607,
   "id": "ddeaac88-54e4-4555-aa8f-9a9a4a4f1308",
   "metadata": {},
   "outputs": [],
   "source": [
    "%%capture --no-display\n",
    "videos['participants'][videos['participant_count'] > 2] = participant_list\n",
    "videos['participant_count'][videos['participant_count'] > 2] = participant_count"
   ]
  },
  {
   "cell_type": "code",
   "execution_count": 2608,
   "id": "6e77fd1b-56d0-49d1-b5da-29ee4b1284fc",
   "metadata": {},
   "outputs": [
    {
     "data": {
      "text/html": [
       "<div>\n",
       "<style scoped>\n",
       "    .dataframe tbody tr th:only-of-type {\n",
       "        vertical-align: middle;\n",
       "    }\n",
       "\n",
       "    .dataframe tbody tr th {\n",
       "        vertical-align: top;\n",
       "    }\n",
       "\n",
       "    .dataframe thead th {\n",
       "        text-align: right;\n",
       "    }\n",
       "</style>\n",
       "<table border=\"1\" class=\"dataframe\">\n",
       "  <thead>\n",
       "    <tr style=\"text-align: right;\">\n",
       "      <th></th>\n",
       "      <th>id</th>\n",
       "      <th>date</th>\n",
       "      <th>title</th>\n",
       "      <th>viewCount</th>\n",
       "      <th>likeCount</th>\n",
       "      <th>commentCount</th>\n",
       "      <th>duration</th>\n",
       "      <th>like_perc</th>\n",
       "      <th>comment_perc</th>\n",
       "      <th>participants</th>\n",
       "      <th>participant_count</th>\n",
       "    </tr>\n",
       "  </thead>\n",
       "  <tbody>\n",
       "    <tr>\n",
       "      <th>249</th>\n",
       "      <td>-OwqU1TzLMs</td>\n",
       "      <td>2021-08-16 19:29:57+00:00</td>\n",
       "      <td>herO shows his CREATIVITY | Leenock (Z) vs herO</td>\n",
       "      <td>24424</td>\n",
       "      <td>741</td>\n",
       "      <td>75</td>\n",
       "      <td>1847</td>\n",
       "      <td>0.030339</td>\n",
       "      <td>0.003071</td>\n",
       "      <td>[hero, ty, leenock]</td>\n",
       "      <td>3</td>\n",
       "    </tr>\n",
       "    <tr>\n",
       "      <th>288</th>\n",
       "      <td>5SG4BVKg6QU</td>\n",
       "      <td>2021-06-27 17:00:02+00:00</td>\n",
       "      <td>Neeblet (P) vs ShoWTimE (P) (Casters: MaxPax, Harstem, PtitDrogo) | The Biggest Loser Round of 8</td>\n",
       "      <td>7084</td>\n",
       "      <td>277</td>\n",
       "      <td>65</td>\n",
       "      <td>2919</td>\n",
       "      <td>0.039102</td>\n",
       "      <td>0.009176</td>\n",
       "      <td>[ptitdrogo, showtime, harstem, neeb]</td>\n",
       "      <td>4</td>\n",
       "    </tr>\n",
       "    <tr>\n",
       "      <th>71</th>\n",
       "      <td>3h0x0YK38bg</td>\n",
       "      <td>2022-03-05 21:35:06+00:00</td>\n",
       "      <td>Crazy Hellion Cyclone Build STARTLES Dark | Special (T) vs Dark (Z)</td>\n",
       "      <td>10625</td>\n",
       "      <td>409</td>\n",
       "      <td>20</td>\n",
       "      <td>1310</td>\n",
       "      <td>0.038494</td>\n",
       "      <td>0.001882</td>\n",
       "      <td>[crazy, dark, art]</td>\n",
       "      <td>3</td>\n",
       "    </tr>\n",
       "  </tbody>\n",
       "</table>\n",
       "</div>"
      ],
      "text/plain": [
       "              id                      date  \\\n",
       "249  -OwqU1TzLMs 2021-08-16 19:29:57+00:00   \n",
       "288  5SG4BVKg6QU 2021-06-27 17:00:02+00:00   \n",
       "71   3h0x0YK38bg 2022-03-05 21:35:06+00:00   \n",
       "\n",
       "                                                                                                title  \\\n",
       "249                                                   herO shows his CREATIVITY | Leenock (Z) vs herO   \n",
       "288  Neeblet (P) vs ShoWTimE (P) (Casters: MaxPax, Harstem, PtitDrogo) | The Biggest Loser Round of 8   \n",
       "71                                Crazy Hellion Cyclone Build STARTLES Dark | Special (T) vs Dark (Z)   \n",
       "\n",
       "     viewCount  likeCount  commentCount  duration  like_perc  comment_perc  \\\n",
       "249      24424        741            75      1847   0.030339      0.003071   \n",
       "288       7084        277            65      2919   0.039102      0.009176   \n",
       "71       10625        409            20      1310   0.038494      0.001882   \n",
       "\n",
       "                             participants  participant_count  \n",
       "249                   [hero, ty, leenock]                  3  \n",
       "288  [ptitdrogo, showtime, harstem, neeb]                  4  \n",
       "71                     [crazy, dark, art]                  3  "
      ]
     },
     "execution_count": 2608,
     "metadata": {},
     "output_type": "execute_result"
    }
   ],
   "source": [
    "videos[videos['participant_count'] > 2].sample(3)"
   ]
  },
  {
   "cell_type": "markdown",
   "id": "205bc630-e412-4466-bc0d-c97286297f0f",
   "metadata": {},
   "source": [
    "### Manual tweaking"
   ]
  },
  {
   "cell_type": "code",
   "execution_count": 2609,
   "id": "99536e3e-e1fa-44d3-8967-3c59381b4fc7",
   "metadata": {},
   "outputs": [
    {
     "name": "stdout",
     "output_type": "stream",
     "text": [
      "(45, 11)\n"
     ]
    },
    {
     "data": {
      "text/html": [
       "<div>\n",
       "<style scoped>\n",
       "    .dataframe tbody tr th:only-of-type {\n",
       "        vertical-align: middle;\n",
       "    }\n",
       "\n",
       "    .dataframe tbody tr th {\n",
       "        vertical-align: top;\n",
       "    }\n",
       "\n",
       "    .dataframe thead th {\n",
       "        text-align: right;\n",
       "    }\n",
       "</style>\n",
       "<table border=\"1\" class=\"dataframe\">\n",
       "  <thead>\n",
       "    <tr style=\"text-align: right;\">\n",
       "      <th></th>\n",
       "      <th>id</th>\n",
       "      <th>date</th>\n",
       "      <th>title</th>\n",
       "      <th>viewCount</th>\n",
       "      <th>likeCount</th>\n",
       "      <th>commentCount</th>\n",
       "      <th>duration</th>\n",
       "      <th>like_perc</th>\n",
       "      <th>comment_perc</th>\n",
       "      <th>participants</th>\n",
       "      <th>participant_count</th>\n",
       "    </tr>\n",
       "  </thead>\n",
       "  <tbody>\n",
       "    <tr>\n",
       "      <th>41</th>\n",
       "      <td>gwJjbiJle5M</td>\n",
       "      <td>2022-04-06 20:28:27+00:00</td>\n",
       "      <td>The Korean Has Goes WILD vs DRG | DRG(Z) vs Prince (P)</td>\n",
       "      <td>11285</td>\n",
       "      <td>340</td>\n",
       "      <td>18</td>\n",
       "      <td>2455</td>\n",
       "      <td>0.030128</td>\n",
       "      <td>0.001595</td>\n",
       "      <td>[drg, has, prince]</td>\n",
       "      <td>3</td>\n",
       "    </tr>\n",
       "    <tr>\n",
       "      <th>212</th>\n",
       "      <td>amypLKLG7jA</td>\n",
       "      <td>2021-10-03 19:48:03+00:00</td>\n",
       "      <td>Does Has Take the Bait? | Has (P) vs Expect (T)</td>\n",
       "      <td>15757</td>\n",
       "      <td>365</td>\n",
       "      <td>30</td>\n",
       "      <td>2705</td>\n",
       "      <td>0.023164</td>\n",
       "      <td>0.001904</td>\n",
       "      <td>[take, ak, has, expect]</td>\n",
       "      <td>4</td>\n",
       "    </tr>\n",
       "    <tr>\n",
       "      <th>42</th>\n",
       "      <td>3OX7LQLfJv0</td>\n",
       "      <td>2022-04-05 21:46:32+00:00</td>\n",
       "      <td>Game Of The Year. | Goblin (P) vs Krystianer (P)</td>\n",
       "      <td>15224</td>\n",
       "      <td>601</td>\n",
       "      <td>37</td>\n",
       "      <td>1953</td>\n",
       "      <td>0.039477</td>\n",
       "      <td>0.002430</td>\n",
       "      <td>[goblin, krystianer, ian]</td>\n",
       "      <td>3</td>\n",
       "    </tr>\n",
       "    <tr>\n",
       "      <th>340</th>\n",
       "      <td>6k0g50g62FY</td>\n",
       "      <td>2021-02-27 18:00:03+00:00</td>\n",
       "      <td>Insanely CLOSE Terran Vs Zerg Best of 3 | Reynor (Z) vs HeRoMaRinE (T)</td>\n",
       "      <td>12950</td>\n",
       "      <td>281</td>\n",
       "      <td>24</td>\n",
       "      <td>2948</td>\n",
       "      <td>0.021699</td>\n",
       "      <td>0.001853</td>\n",
       "      <td>[san, heromarine, reynor]</td>\n",
       "      <td>3</td>\n",
       "    </tr>\n",
       "    <tr>\n",
       "      <th>239</th>\n",
       "      <td>GS6YJ1zJTgY</td>\n",
       "      <td>2021-08-27 22:36:37+00:00</td>\n",
       "      <td>Two Best of 3&amp;#39;s, 15 minutes total. SpeCial vs herO &amp;amp; Harstem vs Maxpax</td>\n",
       "      <td>25957</td>\n",
       "      <td>968</td>\n",
       "      <td>64</td>\n",
       "      <td>902</td>\n",
       "      <td>0.037292</td>\n",
       "      <td>0.002466</td>\n",
       "      <td>[hero, special, harstem]</td>\n",
       "      <td>3</td>\n",
       "    </tr>\n",
       "    <tr>\n",
       "      <th>35</th>\n",
       "      <td>pUNkKtd0ooo</td>\n",
       "      <td>2022-04-13 19:00:14+00:00</td>\n",
       "      <td>MaxPax&amp;#39;s WILD Phoenix MICRO | Classic (P) vs MaxPax (P)</td>\n",
       "      <td>9300</td>\n",
       "      <td>327</td>\n",
       "      <td>31</td>\n",
       "      <td>1543</td>\n",
       "      <td>0.035161</td>\n",
       "      <td>0.003333</td>\n",
       "      <td>[classic, maxpax, phoenix]</td>\n",
       "      <td>3</td>\n",
       "    </tr>\n",
       "    <tr>\n",
       "      <th>364</th>\n",
       "      <td>tg4yHe9y7VY</td>\n",
       "      <td>2021-02-05 16:00:32+00:00</td>\n",
       "      <td>Harstem And Lambo Play TERRAN Vs Reynor</td>\n",
       "      <td>13789</td>\n",
       "      <td>650</td>\n",
       "      <td>36</td>\n",
       "      <td>1304</td>\n",
       "      <td>0.047139</td>\n",
       "      <td>0.002611</td>\n",
       "      <td>[harstem, reynor, lambo]</td>\n",
       "      <td>3</td>\n",
       "    </tr>\n",
       "    <tr>\n",
       "      <th>61</th>\n",
       "      <td>FLahKFbS14I</td>\n",
       "      <td>2022-03-17 20:00:07+00:00</td>\n",
       "      <td>Can CLEM&amp;#39;s INSANE Micro Result in a COMEBACK? | Mana (P) vs Clem (T)</td>\n",
       "      <td>11297</td>\n",
       "      <td>386</td>\n",
       "      <td>12</td>\n",
       "      <td>1063</td>\n",
       "      <td>0.034168</td>\n",
       "      <td>0.001062</td>\n",
       "      <td>[san, clem, mana]</td>\n",
       "      <td>3</td>\n",
       "    </tr>\n",
       "    <tr>\n",
       "      <th>107</th>\n",
       "      <td>GYXHXZCuxxw</td>\n",
       "      <td>2022-01-27 22:33:42+00:00</td>\n",
       "      <td>The PROXY RAX Master uThermal | Lambo (Z) vs uThermal</td>\n",
       "      <td>14797</td>\n",
       "      <td>437</td>\n",
       "      <td>21</td>\n",
       "      <td>1661</td>\n",
       "      <td>0.029533</td>\n",
       "      <td>0.001419</td>\n",
       "      <td>[xy, uthermal, lambo]</td>\n",
       "      <td>3</td>\n",
       "    </tr>\n",
       "    <tr>\n",
       "      <th>190</th>\n",
       "      <td>Dkz4ARx18YM</td>\n",
       "      <td>2021-10-31 22:00:03+00:00</td>\n",
       "      <td>herO&amp;#39;s Blink Dark Templar Squad Keeps ShoWTimE Busy | herO (P) vs ShoWTimE (P)</td>\n",
       "      <td>10880</td>\n",
       "      <td>339</td>\n",
       "      <td>15</td>\n",
       "      <td>1175</td>\n",
       "      <td>0.031158</td>\n",
       "      <td>0.001379</td>\n",
       "      <td>[hero, showtime, dark]</td>\n",
       "      <td>3</td>\n",
       "    </tr>\n",
       "  </tbody>\n",
       "</table>\n",
       "</div>"
      ],
      "text/plain": [
       "              id                      date  \\\n",
       "41   gwJjbiJle5M 2022-04-06 20:28:27+00:00   \n",
       "212  amypLKLG7jA 2021-10-03 19:48:03+00:00   \n",
       "42   3OX7LQLfJv0 2022-04-05 21:46:32+00:00   \n",
       "340  6k0g50g62FY 2021-02-27 18:00:03+00:00   \n",
       "239  GS6YJ1zJTgY 2021-08-27 22:36:37+00:00   \n",
       "35   pUNkKtd0ooo 2022-04-13 19:00:14+00:00   \n",
       "364  tg4yHe9y7VY 2021-02-05 16:00:32+00:00   \n",
       "61   FLahKFbS14I 2022-03-17 20:00:07+00:00   \n",
       "107  GYXHXZCuxxw 2022-01-27 22:33:42+00:00   \n",
       "190  Dkz4ARx18YM 2021-10-31 22:00:03+00:00   \n",
       "\n",
       "                                                                                  title  \\\n",
       "41                               The Korean Has Goes WILD vs DRG | DRG(Z) vs Prince (P)   \n",
       "212                                     Does Has Take the Bait? | Has (P) vs Expect (T)   \n",
       "42                                     Game Of The Year. | Goblin (P) vs Krystianer (P)   \n",
       "340              Insanely CLOSE Terran Vs Zerg Best of 3 | Reynor (Z) vs HeRoMaRinE (T)   \n",
       "239      Two Best of 3&#39;s, 15 minutes total. SpeCial vs herO &amp; Harstem vs Maxpax   \n",
       "35                          MaxPax&#39;s WILD Phoenix MICRO | Classic (P) vs MaxPax (P)   \n",
       "364                                             Harstem And Lambo Play TERRAN Vs Reynor   \n",
       "61             Can CLEM&#39;s INSANE Micro Result in a COMEBACK? | Mana (P) vs Clem (T)   \n",
       "107                               The PROXY RAX Master uThermal | Lambo (Z) vs uThermal   \n",
       "190  herO&#39;s Blink Dark Templar Squad Keeps ShoWTimE Busy | herO (P) vs ShoWTimE (P)   \n",
       "\n",
       "     viewCount  likeCount  commentCount  duration  like_perc  comment_perc  \\\n",
       "41       11285        340            18      2455   0.030128      0.001595   \n",
       "212      15757        365            30      2705   0.023164      0.001904   \n",
       "42       15224        601            37      1953   0.039477      0.002430   \n",
       "340      12950        281            24      2948   0.021699      0.001853   \n",
       "239      25957        968            64       902   0.037292      0.002466   \n",
       "35        9300        327            31      1543   0.035161      0.003333   \n",
       "364      13789        650            36      1304   0.047139      0.002611   \n",
       "61       11297        386            12      1063   0.034168      0.001062   \n",
       "107      14797        437            21      1661   0.029533      0.001419   \n",
       "190      10880        339            15      1175   0.031158      0.001379   \n",
       "\n",
       "                   participants  participant_count  \n",
       "41           [drg, has, prince]                  3  \n",
       "212     [take, ak, has, expect]                  4  \n",
       "42    [goblin, krystianer, ian]                  3  \n",
       "340   [san, heromarine, reynor]                  3  \n",
       "239    [hero, special, harstem]                  3  \n",
       "35   [classic, maxpax, phoenix]                  3  \n",
       "364    [harstem, reynor, lambo]                  3  \n",
       "61            [san, clem, mana]                  3  \n",
       "107       [xy, uthermal, lambo]                  3  \n",
       "190      [hero, showtime, dark]                  3  "
      ]
     },
     "execution_count": 2609,
     "metadata": {},
     "output_type": "execute_result"
    }
   ],
   "source": [
    "# Delete participants manuall where therea are more than two participants\n",
    "print(videos[videos['participant_count'] > 2].shape)\n",
    "videos[videos['participant_count'] > 2].sample(10)"
   ]
  },
  {
   "cell_type": "code",
   "execution_count": 2610,
   "id": "3ff22efd-9217-4648-9269-5ad4ea828135",
   "metadata": {},
   "outputs": [
    {
     "data": {
      "text/html": [
       "<div>\n",
       "<style scoped>\n",
       "    .dataframe tbody tr th:only-of-type {\n",
       "        vertical-align: middle;\n",
       "    }\n",
       "\n",
       "    .dataframe tbody tr th {\n",
       "        vertical-align: top;\n",
       "    }\n",
       "\n",
       "    .dataframe thead th {\n",
       "        text-align: right;\n",
       "    }\n",
       "</style>\n",
       "<table border=\"1\" class=\"dataframe\">\n",
       "  <thead>\n",
       "    <tr style=\"text-align: right;\">\n",
       "      <th></th>\n",
       "      <th>id</th>\n",
       "      <th>name</th>\n",
       "      <th>team</th>\n",
       "      <th>race</th>\n",
       "    </tr>\n",
       "  </thead>\n",
       "  <tbody>\n",
       "    <tr>\n",
       "      <th>634</th>\n",
       "      <td>ProXy</td>\n",
       "      <td>Azamat Serikbaev</td>\n",
       "      <td>Hasu Players</td>\n",
       "      <td>Terran</td>\n",
       "    </tr>\n",
       "    <tr>\n",
       "      <th>907</th>\n",
       "      <td>OxygeN</td>\n",
       "      <td>Wei Yang Lim</td>\n",
       "      <td>no_team</td>\n",
       "      <td>Terran</td>\n",
       "    </tr>\n",
       "  </tbody>\n",
       "</table>\n",
       "</div>"
      ],
      "text/plain": [
       "         id              name          team    race\n",
       "634   ProXy  Azamat Serikbaev  Hasu Players  Terran\n",
       "907  OxygeN      Wei Yang Lim       no_team  Terran"
      ]
     },
     "execution_count": 2610,
     "metadata": {},
     "output_type": "execute_result"
    }
   ],
   "source": [
    "players[players['id'].str.contains('xy', case=False)] "
   ]
  },
  {
   "cell_type": "code",
   "execution_count": 2611,
   "id": "236a3ed6-c31b-418f-b2bb-de92a20e7a51",
   "metadata": {},
   "outputs": [
    {
     "data": {
      "text/html": [
       "<div>\n",
       "<style scoped>\n",
       "    .dataframe tbody tr th:only-of-type {\n",
       "        vertical-align: middle;\n",
       "    }\n",
       "\n",
       "    .dataframe tbody tr th {\n",
       "        vertical-align: top;\n",
       "    }\n",
       "\n",
       "    .dataframe thead th {\n",
       "        text-align: right;\n",
       "    }\n",
       "</style>\n",
       "<table border=\"1\" class=\"dataframe\">\n",
       "  <thead>\n",
       "    <tr style=\"text-align: right;\">\n",
       "      <th></th>\n",
       "      <th>id</th>\n",
       "      <th>realname</th>\n",
       "      <th>winnings</th>\n",
       "    </tr>\n",
       "  </thead>\n",
       "  <tbody>\n",
       "    <tr>\n",
       "      <th>28</th>\n",
       "      <td>ShoWTimE</td>\n",
       "      <td>Tobias Sieber</td>\n",
       "      <td>$314,100.93</td>\n",
       "    </tr>\n",
       "    <tr>\n",
       "      <th>42</th>\n",
       "      <td>TIME</td>\n",
       "      <td>Li, Peinan</td>\n",
       "      <td>$226,286.48</td>\n",
       "    </tr>\n",
       "  </tbody>\n",
       "</table>\n",
       "</div>"
      ],
      "text/plain": [
       "          id       realname     winnings\n",
       "28  ShoWTimE  Tobias Sieber  $314,100.93\n",
       "42      TIME     Li, Peinan  $226,286.48"
      ]
     },
     "execution_count": 2611,
     "metadata": {},
     "output_type": "execute_result"
    }
   ],
   "source": [
    "players_top100[players_top100['id'].str.contains('time', case=False)] "
   ]
  },
  {
   "cell_type": "code",
   "execution_count": 2612,
   "id": "d40d7bbd-feaf-4101-98f1-24d1765ead25",
   "metadata": {},
   "outputs": [],
   "source": [
    "# players_to_drop = [228, 296, 304, 457, 1484, 1308, 647, 347, 1235, 1236, 1236, 350\n",
    "# players.drop(labels=players_to_drop, inplace=True)\n"
   ]
  },
  {
   "cell_type": "raw",
   "id": "cc0270ae-8b7f-4ce6-8e46-cd8f0ede1eb0",
   "metadata": {},
   "source": [
    "# save pickle file\n",
    "with open('players_list.pkl', 'wb') as f:\n",
    "    pickle.dump(players, f)"
   ]
  },
  {
   "cell_type": "markdown",
   "id": "bc4f53d7-19f7-404f-b382-7c653c134b21",
   "metadata": {},
   "source": [
    "### Randomly delete when there are more than 2 participants"
   ]
  },
  {
   "cell_type": "code",
   "execution_count": 2613,
   "id": "9383e4ef-cc2c-4deb-8d56-623a2b050e67",
   "metadata": {},
   "outputs": [
    {
     "data": {
      "text/html": [
       "<div>\n",
       "<style scoped>\n",
       "    .dataframe tbody tr th:only-of-type {\n",
       "        vertical-align: middle;\n",
       "    }\n",
       "\n",
       "    .dataframe tbody tr th {\n",
       "        vertical-align: top;\n",
       "    }\n",
       "\n",
       "    .dataframe thead th {\n",
       "        text-align: right;\n",
       "    }\n",
       "</style>\n",
       "<table border=\"1\" class=\"dataframe\">\n",
       "  <thead>\n",
       "    <tr style=\"text-align: right;\">\n",
       "      <th></th>\n",
       "      <th>id</th>\n",
       "      <th>date</th>\n",
       "      <th>title</th>\n",
       "      <th>viewCount</th>\n",
       "      <th>likeCount</th>\n",
       "      <th>commentCount</th>\n",
       "      <th>duration</th>\n",
       "      <th>like_perc</th>\n",
       "      <th>comment_perc</th>\n",
       "      <th>participants</th>\n",
       "      <th>participant_count</th>\n",
       "    </tr>\n",
       "  </thead>\n",
       "  <tbody>\n",
       "    <tr>\n",
       "      <th>165</th>\n",
       "      <td>irTvRKYvnSU</td>\n",
       "      <td>2021-11-26 22:47:29+00:00</td>\n",
       "      <td>Elazer Wasting Everyone&amp;#39;s Time, Including yours. | Elazer (Z) vs Strange (P)</td>\n",
       "      <td>10469</td>\n",
       "      <td>391</td>\n",
       "      <td>52</td>\n",
       "      <td>1444</td>\n",
       "      <td>0.037348</td>\n",
       "      <td>0.004967</td>\n",
       "      <td>[elazer, eve, strange]</td>\n",
       "      <td>3</td>\n",
       "    </tr>\n",
       "    <tr>\n",
       "      <th>35</th>\n",
       "      <td>pUNkKtd0ooo</td>\n",
       "      <td>2022-04-13 19:00:14+00:00</td>\n",
       "      <td>MaxPax&amp;#39;s WILD Phoenix MICRO | Classic (P) vs MaxPax (P)</td>\n",
       "      <td>9300</td>\n",
       "      <td>327</td>\n",
       "      <td>31</td>\n",
       "      <td>1543</td>\n",
       "      <td>0.035161</td>\n",
       "      <td>0.003333</td>\n",
       "      <td>[classic, maxpax, phoenix]</td>\n",
       "      <td>3</td>\n",
       "    </tr>\n",
       "    <tr>\n",
       "      <th>71</th>\n",
       "      <td>3h0x0YK38bg</td>\n",
       "      <td>2022-03-05 21:35:06+00:00</td>\n",
       "      <td>Crazy Hellion Cyclone Build STARTLES Dark | Special (T) vs Dark (Z)</td>\n",
       "      <td>10625</td>\n",
       "      <td>409</td>\n",
       "      <td>20</td>\n",
       "      <td>1310</td>\n",
       "      <td>0.038494</td>\n",
       "      <td>0.001882</td>\n",
       "      <td>[crazy, dark, art]</td>\n",
       "      <td>3</td>\n",
       "    </tr>\n",
       "    <tr>\n",
       "      <th>306</th>\n",
       "      <td>RsaflgL1TOM</td>\n",
       "      <td>2021-05-13 17:00:08+00:00</td>\n",
       "      <td>LONG TvT Macro Game | SouL (T) vs Marinelord (T)</td>\n",
       "      <td>8091</td>\n",
       "      <td>336</td>\n",
       "      <td>32</td>\n",
       "      <td>1565</td>\n",
       "      <td>0.041528</td>\n",
       "      <td>0.003955</td>\n",
       "      <td>[marinelord, rine, acro]</td>\n",
       "      <td>3</td>\n",
       "    </tr>\n",
       "    <tr>\n",
       "      <th>253</th>\n",
       "      <td>sZtpFGzBets</td>\n",
       "      <td>2021-08-12 19:30:15+00:00</td>\n",
       "      <td>INTENSE Terran Mech vs Zerg | SouL (T) vs Elazer (Z)</td>\n",
       "      <td>14029</td>\n",
       "      <td>503</td>\n",
       "      <td>60</td>\n",
       "      <td>1081</td>\n",
       "      <td>0.035854</td>\n",
       "      <td>0.004277</td>\n",
       "      <td>[intense, elazer, terran]</td>\n",
       "      <td>3</td>\n",
       "    </tr>\n",
       "  </tbody>\n",
       "</table>\n",
       "</div>"
      ],
      "text/plain": [
       "              id                      date  \\\n",
       "165  irTvRKYvnSU 2021-11-26 22:47:29+00:00   \n",
       "35   pUNkKtd0ooo 2022-04-13 19:00:14+00:00   \n",
       "71   3h0x0YK38bg 2022-03-05 21:35:06+00:00   \n",
       "306  RsaflgL1TOM 2021-05-13 17:00:08+00:00   \n",
       "253  sZtpFGzBets 2021-08-12 19:30:15+00:00   \n",
       "\n",
       "                                                                                title  \\\n",
       "165  Elazer Wasting Everyone&#39;s Time, Including yours. | Elazer (Z) vs Strange (P)   \n",
       "35                        MaxPax&#39;s WILD Phoenix MICRO | Classic (P) vs MaxPax (P)   \n",
       "71                Crazy Hellion Cyclone Build STARTLES Dark | Special (T) vs Dark (Z)   \n",
       "306                                  LONG TvT Macro Game | SouL (T) vs Marinelord (T)   \n",
       "253                              INTENSE Terran Mech vs Zerg | SouL (T) vs Elazer (Z)   \n",
       "\n",
       "     viewCount  likeCount  commentCount  duration  like_perc  comment_perc  \\\n",
       "165      10469        391            52      1444   0.037348      0.004967   \n",
       "35        9300        327            31      1543   0.035161      0.003333   \n",
       "71       10625        409            20      1310   0.038494      0.001882   \n",
       "306       8091        336            32      1565   0.041528      0.003955   \n",
       "253      14029        503            60      1081   0.035854      0.004277   \n",
       "\n",
       "                   participants  participant_count  \n",
       "165      [elazer, eve, strange]                  3  \n",
       "35   [classic, maxpax, phoenix]                  3  \n",
       "71           [crazy, dark, art]                  3  \n",
       "306    [marinelord, rine, acro]                  3  \n",
       "253   [intense, elazer, terran]                  3  "
      ]
     },
     "execution_count": 2613,
     "metadata": {},
     "output_type": "execute_result"
    }
   ],
   "source": [
    "videos[videos['participant_count'] > 2].sample(5)"
   ]
  },
  {
   "cell_type": "code",
   "execution_count": 2614,
   "id": "cc6cae7b-6208-43df-96cd-9636afb5469f",
   "metadata": {},
   "outputs": [
    {
     "name": "stdout",
     "output_type": "stream",
     "text": [
      "(45, 11)\n"
     ]
    }
   ],
   "source": [
    "print(videos[videos['participant_count'] > 2].shape)"
   ]
  },
  {
   "cell_type": "code",
   "execution_count": 2615,
   "id": "6ff9885a-e803-4153-8c66-44fcb6faacf7",
   "metadata": {},
   "outputs": [],
   "source": [
    "# videos['participants'][videos['participant_count'] > 2]"
   ]
  },
  {
   "cell_type": "code",
   "execution_count": 2616,
   "id": "a379cd7d-4209-4436-9710-e0f198c2731f",
   "metadata": {},
   "outputs": [],
   "source": [
    "# delete player with the shortest name until there are only two players left\n",
    "for participants in videos['participants']:\n",
    "    while len(participants)>2:\n",
    "        # print(participants)\n",
    "        participants.remove(min(participants, key=len))\n",
    "        # print(participants)\n",
    "videos['participant_count'] = 2"
   ]
  },
  {
   "cell_type": "code",
   "execution_count": 2617,
   "id": "c43ca663-8cac-4451-8edb-1b376241ca03",
   "metadata": {},
   "outputs": [
    {
     "data": {
      "text/html": [
       "<div>\n",
       "<style scoped>\n",
       "    .dataframe tbody tr th:only-of-type {\n",
       "        vertical-align: middle;\n",
       "    }\n",
       "\n",
       "    .dataframe tbody tr th {\n",
       "        vertical-align: top;\n",
       "    }\n",
       "\n",
       "    .dataframe thead th {\n",
       "        text-align: right;\n",
       "    }\n",
       "</style>\n",
       "<table border=\"1\" class=\"dataframe\">\n",
       "  <thead>\n",
       "    <tr style=\"text-align: right;\">\n",
       "      <th></th>\n",
       "      <th>id</th>\n",
       "      <th>date</th>\n",
       "      <th>title</th>\n",
       "      <th>viewCount</th>\n",
       "      <th>likeCount</th>\n",
       "      <th>commentCount</th>\n",
       "      <th>duration</th>\n",
       "      <th>like_perc</th>\n",
       "      <th>comment_perc</th>\n",
       "      <th>participants</th>\n",
       "      <th>participant_count</th>\n",
       "    </tr>\n",
       "  </thead>\n",
       "  <tbody>\n",
       "  </tbody>\n",
       "</table>\n",
       "</div>"
      ],
      "text/plain": [
       "Empty DataFrame\n",
       "Columns: [id, date, title, viewCount, likeCount, commentCount, duration, like_perc, comment_perc, participants, participant_count]\n",
       "Index: []"
      ]
     },
     "execution_count": 2617,
     "metadata": {},
     "output_type": "execute_result"
    }
   ],
   "source": [
    "videos[videos['participant_count'] > 2]"
   ]
  },
  {
   "cell_type": "markdown",
   "id": "7ff55208-e802-44ee-9eac-cef125881dd4",
   "metadata": {},
   "source": [
    "## Get player race"
   ]
  },
  {
   "cell_type": "markdown",
   "id": "1f679779-7876-4038-8ead-cb7fb179c402",
   "metadata": {},
   "source": [
    "### Get player racefrom title"
   ]
  },
  {
   "cell_type": "code",
   "execution_count": 2618,
   "id": "06b3d81e-ad98-408d-907f-f4408973900f",
   "metadata": {},
   "outputs": [],
   "source": [
    "# (Z), (P), (T), Zerg, Protoss, Terran, tvst, ...\n",
    "# get race from player\n",
    "races_count = []\n",
    "races = []\n",
    "for title in videos['title']:    \n",
    "    races_per_game = []\n",
    "    title = title.lower()\n",
    "    found_zergs = title.count('(z)')\n",
    "    if found_zergs == 2:\n",
    "        races_per_game.append('z')    \n",
    "        races_per_game.append('z')            \n",
    "    if found_zergs == 1:\n",
    "        races_per_game.append('z')   \n",
    "        \n",
    "    found_protoss = title.count('(p)')\n",
    "    if found_protoss == 2:\n",
    "        races_per_game.append('p')    \n",
    "        races_per_game.append('p')            \n",
    "    if found_protoss == 1:\n",
    "        races_per_game.append('p') \n",
    "        \n",
    "    found_terrans = title.count('(t)')\n",
    "    if found_terrans == 2:\n",
    "        races_per_game.append('t')    \n",
    "        races_per_game.append('t')            \n",
    "    if found_terrans == 1:\n",
    "        races_per_game.append('t') \n",
    "    races_per_game.sort()\n",
    "    if not races_per_game:\n",
    "        found_zergs = title.count(' z ') + title.count('zerg')\n",
    "        if found_zergs == 2:\n",
    "            races_per_game.append('z')    \n",
    "            races_per_game.append('z')            \n",
    "        if found_zergs == 1:\n",
    "            races_per_game.append('z')   \n",
    "\n",
    "        found_protoss = title.count(' p ') + title.count('protoss')\n",
    "        if found_protoss == 2:\n",
    "            races_per_game.append('p')    \n",
    "            races_per_game.append('p')            \n",
    "        if found_protoss == 1:\n",
    "            races_per_game.append('p') \n",
    "\n",
    "        found_terrans = title.count(' t ') + title.count('terran')\n",
    "        if found_terrans == 2:\n",
    "            races_per_game.append('t')    \n",
    "            races_per_game.append('t')            \n",
    "        if found_terrans == 1:\n",
    "            races_per_game.append('t')         \n",
    "    # if not races_per_game: print(title) # list titles where no race was found    \n",
    "    races_count.append(len(races_per_game))\n",
    "    races.append(races_per_game)   \n",
    "    "
   ]
  },
  {
   "cell_type": "code",
   "execution_count": 2619,
   "id": "f12fb6c8-2402-4d57-88e7-07c033bc2be2",
   "metadata": {},
   "outputs": [],
   "source": [
    "# races"
   ]
  },
  {
   "cell_type": "code",
   "execution_count": 2620,
   "id": "edf7639f-2928-4847-be64-b75dc564ac72",
   "metadata": {},
   "outputs": [],
   "source": [
    "videos['races'] = races\n",
    "videos['races_count'] = races_count"
   ]
  },
  {
   "cell_type": "code",
   "execution_count": 2621,
   "id": "1dd4bfd7-8c85-4598-bb5b-3ea2334a1409",
   "metadata": {},
   "outputs": [],
   "source": [
    "# videos['races'].iloc[0:30]"
   ]
  },
  {
   "cell_type": "markdown",
   "id": "6d22cd74-75fa-4093-b2e3-4d20992e7700",
   "metadata": {},
   "source": [
    "### Get missing races from player"
   ]
  },
  {
   "cell_type": "code",
   "execution_count": 2622,
   "id": "a25710ee-a494-4061-88b1-11894f43819a",
   "metadata": {},
   "outputs": [
    {
     "data": {
      "text/html": [
       "<div>\n",
       "<style scoped>\n",
       "    .dataframe tbody tr th:only-of-type {\n",
       "        vertical-align: middle;\n",
       "    }\n",
       "\n",
       "    .dataframe tbody tr th {\n",
       "        vertical-align: top;\n",
       "    }\n",
       "\n",
       "    .dataframe thead th {\n",
       "        text-align: right;\n",
       "    }\n",
       "</style>\n",
       "<table border=\"1\" class=\"dataframe\">\n",
       "  <thead>\n",
       "    <tr style=\"text-align: right;\">\n",
       "      <th></th>\n",
       "      <th>id</th>\n",
       "      <th>name</th>\n",
       "      <th>team</th>\n",
       "      <th>race</th>\n",
       "    </tr>\n",
       "  </thead>\n",
       "  <tbody>\n",
       "    <tr>\n",
       "      <th>1263</th>\n",
       "      <td>New</td>\n",
       "      <td>Bo In-jang</td>\n",
       "      <td>no_team</td>\n",
       "      <td>Protoss</td>\n",
       "    </tr>\n",
       "    <tr>\n",
       "      <th>9</th>\n",
       "      <td>Chappy</td>\n",
       "      <td>Christopher Chapman</td>\n",
       "      <td>no_team</td>\n",
       "      <td>Zerg</td>\n",
       "    </tr>\n",
       "    <tr>\n",
       "      <th>1790</th>\n",
       "      <td>CrunCher</td>\n",
       "      <td>Abdulaziz Abed</td>\n",
       "      <td>no_team</td>\n",
       "      <td>Protoss</td>\n",
       "    </tr>\n",
       "  </tbody>\n",
       "</table>\n",
       "</div>"
      ],
      "text/plain": [
       "            id                 name     team     race\n",
       "1263       New           Bo In-jang  no_team  Protoss\n",
       "9       Chappy  Christopher Chapman  no_team     Zerg\n",
       "1790  CrunCher       Abdulaziz Abed  no_team  Protoss"
      ]
     },
     "execution_count": 2622,
     "metadata": {},
     "output_type": "execute_result"
    }
   ],
   "source": [
    "players.sample(3)"
   ]
  },
  {
   "cell_type": "code",
   "execution_count": 2623,
   "id": "24d73713-38d4-4b90-b1af-7f3e0eefd3b2",
   "metadata": {},
   "outputs": [],
   "source": [
    "# when both races are unknown\n",
    "\n",
    "races = []\n",
    "for participant in videos['participants'][videos['races_count'] == 0]:\n",
    "    races_per_match = []\n",
    "    for player in participant:    \n",
    "        # print(player)\n",
    "        result =  players['race'][players['id'].str.match(player, case=False)]\n",
    "        if not result.empty:\n",
    "            race = players['race'][players['id'].str.match(player, case=False)].iloc[0]\n",
    "        else:\n",
    "            race = 'unknown'\n",
    "        if race == 'Zerg': races_per_match.append('z')\n",
    "        if race == 'Terran': races_per_match.append('t')\n",
    "        if race == 'Protoss': races_per_match.append('p')\n",
    "        if race == 'unknown': races_per_match.append('u')\n",
    "    # print(participant)\n",
    "    #print(len(races_per_match))\n",
    "    # print(str(races_per_match) + '\\n')\n",
    "    if len(races_per_match) == 1:\n",
    "        races_per_match.append('u')\n",
    "    if len(races_per_match) == 0:\n",
    "        races_per_match.append('u')\n",
    "        races_per_match.append('u')                \n",
    "    races.append(races_per_match)"
   ]
  },
  {
   "cell_type": "code",
   "execution_count": 2624,
   "id": "96c1bb1d-bf10-4aac-bc78-ac0990cc661e",
   "metadata": {},
   "outputs": [
    {
     "data": {
      "text/plain": [
       "46"
      ]
     },
     "execution_count": 2624,
     "metadata": {},
     "output_type": "execute_result"
    }
   ],
   "source": [
    "# races\n",
    "len(races)"
   ]
  },
  {
   "cell_type": "code",
   "execution_count": 2625,
   "id": "204f483b-ccb6-4325-b12a-deeb868175ee",
   "metadata": {},
   "outputs": [
    {
     "data": {
      "text/plain": [
       "(46,)"
      ]
     },
     "execution_count": 2625,
     "metadata": {},
     "output_type": "execute_result"
    }
   ],
   "source": [
    "videos[videos['races_count'] == 0]['races'].shape"
   ]
  },
  {
   "cell_type": "code",
   "execution_count": 2626,
   "id": "76f7701a-188f-4a50-8e5d-db2f774e87f8",
   "metadata": {},
   "outputs": [],
   "source": [
    "# I don't know why - but that's the only way I made it work. May\n",
    "# sth like \n",
    "# videos['races'][videos['races_count'] == 0] = races\n",
    "# did not work. \n",
    "videos2 = videos[videos['races_count'] == 0].copy()"
   ]
  },
  {
   "cell_type": "code",
   "execution_count": 2627,
   "id": "299c351b-0d30-4d95-a036-0251af98eaa7",
   "metadata": {},
   "outputs": [],
   "source": [
    "videos2['races'] = races"
   ]
  },
  {
   "cell_type": "code",
   "execution_count": 2628,
   "id": "f8eeb528-6281-4b01-8875-54adb3ebf18c",
   "metadata": {},
   "outputs": [],
   "source": [
    "# videos2"
   ]
  },
  {
   "cell_type": "code",
   "execution_count": 2629,
   "id": "2f19fd3e-7173-4d88-be1f-f233fda813f3",
   "metadata": {},
   "outputs": [],
   "source": [
    "%%capture --no-display\n",
    "# todo: there is an error. races is a list of lists with two entries each\n",
    "# but only the first is added to the table\n",
    "videos['races'][videos['races_count'] == 0] = videos2['races']\n",
    "videos['races_count'][videos['races_count'] == 0] = 2"
   ]
  },
  {
   "cell_type": "code",
   "execution_count": 2630,
   "id": "44a13d16-8a34-4e32-9d69-3262d594634c",
   "metadata": {},
   "outputs": [
    {
     "data": {
      "text/plain": [
       "'Zerg'"
      ]
     },
     "execution_count": 2630,
     "metadata": {},
     "output_type": "execute_result"
    }
   ],
   "source": [
    "players['race'][players['id'].str.match('Serral', case=False)].iloc[0]"
   ]
  },
  {
   "cell_type": "code",
   "execution_count": 2631,
   "id": "f018becc-3f8a-41cd-8cbc-acac79f2734d",
   "metadata": {},
   "outputs": [],
   "source": [
    "#videos['races']"
   ]
  },
  {
   "cell_type": "code",
   "execution_count": 2632,
   "id": "4265e559-8d26-4d6e-813d-8eadf5ad524d",
   "metadata": {},
   "outputs": [],
   "source": [
    "# when one race is known fill the missing one with unknown\n",
    "races = []\n",
    "for race in videos['races'][videos['races_count'] == 1]:\n",
    "    # print(race)\n",
    "    race.append('u')"
   ]
  },
  {
   "cell_type": "code",
   "execution_count": 2633,
   "id": "5c689d9d-33d1-4bb1-add8-6548a347ce14",
   "metadata": {},
   "outputs": [],
   "source": [
    "%%capture --no-display\n",
    "videos['races_count'][videos['races_count'] == 1]  = 2"
   ]
  },
  {
   "cell_type": "code",
   "execution_count": 2634,
   "id": "bd545417-afde-46d9-91fd-7168ad54e720",
   "metadata": {},
   "outputs": [],
   "source": [
    "# videos.iloc[0:50]"
   ]
  },
  {
   "cell_type": "markdown",
   "id": "a088ce28-1373-4cf5-98b6-d965eeff6516",
   "metadata": {},
   "source": [
    "# Use ML algorithms"
   ]
  },
  {
   "cell_type": "code",
   "execution_count": 2655,
   "id": "879ab662-096e-4355-b175-c3a9feb2e71a",
   "metadata": {},
   "outputs": [],
   "source": [
    "import pandas as pd\n",
    "import numpy as np\n",
    "\n",
    "from sklearn.model_selection import train_test_split\n",
    "from sklearn.preprocessing import MultiLabelBinarizer\n",
    "from sklearn.preprocessing import MinMaxScaler\n",
    "\n",
    "from sklearn.ensemble import RandomForestClassifier\n",
    "from sklearn.metrics import confusion_matrix\n",
    "from sklearn.model_selection import cross_val_score\n",
    "\n",
    "import seaborn as sns\n",
    "import datetime\n",
    "import statistics as stats\n",
    "import matplotlib.mlab as mlab\n",
    "import matplotlib.pyplot as plt\n",
    "\n",
    "from sklearn.metrics import r2_score\n",
    "from sklearn.metrics import mean_squared_error\n",
    "from sklearn.metrics import mean_absolute_error\n",
    "from sklearn import linear_model\n",
    "from sklearn.tree import DecisionTreeRegressor\n",
    "\n",
    "import warnings\n",
    "warnings.filterwarnings('ignore')"
   ]
  },
  {
   "cell_type": "markdown",
   "id": "0778e10e-2a77-42aa-a9d1-139172f3a9f3",
   "metadata": {},
   "source": [
    "## Prepare data for machine learning"
   ]
  },
  {
   "cell_type": "markdown",
   "id": "282055f3-53bd-4a81-b3fc-c1c50b9c5642",
   "metadata": {},
   "source": [
    "### Drop columns"
   ]
  },
  {
   "cell_type": "code",
   "execution_count": 2636,
   "id": "5e366d6e-1b94-4351-a5e9-7618264f2d79",
   "metadata": {},
   "outputs": [],
   "source": [
    "videos.drop(['id', 'title', 'likeCount', 'commentCount', 'like_perc', 'comment_perc', 'participant_count', 'races_count'], axis=1, inplace=True)"
   ]
  },
  {
   "cell_type": "code",
   "execution_count": 2637,
   "id": "d724b306-c3e1-40ee-a040-b5456b58c363",
   "metadata": {},
   "outputs": [],
   "source": [
    "videos.rename(columns={'viewCount' : 'view_count'}, inplace=True)"
   ]
  },
  {
   "cell_type": "markdown",
   "id": "12d5caa4-ba22-4b08-9e18-b068ea3a057b",
   "metadata": {},
   "source": [
    "### Convert date to something meaningful"
   ]
  },
  {
   "cell_type": "code",
   "execution_count": 2638,
   "id": "4d238018-7ad6-44b5-a5a7-35e4f59a5557",
   "metadata": {},
   "outputs": [],
   "source": [
    "# First video appeared\n",
    "channel_starting_date = videos['date'].iloc[-1]"
   ]
  },
  {
   "cell_type": "code",
   "execution_count": 2639,
   "id": "a2ca1286-dfc4-4457-98aa-1cbb1706026f",
   "metadata": {},
   "outputs": [],
   "source": [
    "videos['days_since_channel_started'] = (videos['date']  - channel_starting_date).dt.days"
   ]
  },
  {
   "cell_type": "code",
   "execution_count": 2640,
   "id": "9892714a-a9e4-4bf9-9138-eeb092f84c76",
   "metadata": {},
   "outputs": [],
   "source": [
    "videos['hour_of_the_day'] = videos['date'].dt.hour"
   ]
  },
  {
   "cell_type": "code",
   "execution_count": 2641,
   "id": "559fd7da-f947-46bb-98c3-2fb159b3fd38",
   "metadata": {},
   "outputs": [],
   "source": [
    "videos['day_of_the_week'] = videos['date'].dt.dayofweek"
   ]
  },
  {
   "cell_type": "code",
   "execution_count": 2642,
   "id": "c11e4ea8-c836-4606-99f1-8dbfe7ffa783",
   "metadata": {},
   "outputs": [],
   "source": [
    "videos.drop(['date'], axis=1, inplace=True)"
   ]
  },
  {
   "cell_type": "markdown",
   "id": "4686f8a0-904f-4035-b864-46812e2d605b",
   "metadata": {},
   "source": [
    "### xy split & scaling"
   ]
  },
  {
   "cell_type": "code",
   "execution_count": 2643,
   "id": "3f5c27c6-275e-4004-8c1e-bbd1f1acfff0",
   "metadata": {},
   "outputs": [],
   "source": [
    "num = videos._get_numeric_data()\n",
    "num.drop(['view_count'], axis=1, inplace=True)\n",
    "cat = videos.select_dtypes(np.object)"
   ]
  },
  {
   "cell_type": "code",
   "execution_count": 2644,
   "id": "35008e20-676a-450a-b688-e4dbfbbeb695",
   "metadata": {},
   "outputs": [
    {
     "data": {
      "text/html": [
       "<div>\n",
       "<style scoped>\n",
       "    .dataframe tbody tr th:only-of-type {\n",
       "        vertical-align: middle;\n",
       "    }\n",
       "\n",
       "    .dataframe tbody tr th {\n",
       "        vertical-align: top;\n",
       "    }\n",
       "\n",
       "    .dataframe thead th {\n",
       "        text-align: right;\n",
       "    }\n",
       "</style>\n",
       "<table border=\"1\" class=\"dataframe\">\n",
       "  <thead>\n",
       "    <tr style=\"text-align: right;\">\n",
       "      <th></th>\n",
       "      <th>participants</th>\n",
       "      <th>races</th>\n",
       "    </tr>\n",
       "  </thead>\n",
       "  <tbody>\n",
       "    <tr>\n",
       "      <th>0</th>\n",
       "      <td>[Rogue, Cure]</td>\n",
       "      <td>[t, z]</td>\n",
       "    </tr>\n",
       "    <tr>\n",
       "      <th>1</th>\n",
       "      <td>[SpeCial, Trap]</td>\n",
       "      <td>[p, t]</td>\n",
       "    </tr>\n",
       "    <tr>\n",
       "      <th>2</th>\n",
       "      <td>[hero, cham]</td>\n",
       "      <td>[p, z]</td>\n",
       "    </tr>\n",
       "    <tr>\n",
       "      <th>3</th>\n",
       "      <td>[Reynor, herO]</td>\n",
       "      <td>[p, z]</td>\n",
       "    </tr>\n",
       "    <tr>\n",
       "      <th>4</th>\n",
       "      <td>[Maru, Reynor]</td>\n",
       "      <td>[t, z]</td>\n",
       "    </tr>\n",
       "  </tbody>\n",
       "</table>\n",
       "</div>"
      ],
      "text/plain": [
       "      participants   races\n",
       "0    [Rogue, Cure]  [t, z]\n",
       "1  [SpeCial, Trap]  [p, t]\n",
       "2     [hero, cham]  [p, z]\n",
       "3   [Reynor, herO]  [p, z]\n",
       "4   [Maru, Reynor]  [t, z]"
      ]
     },
     "execution_count": 2644,
     "metadata": {},
     "output_type": "execute_result"
    }
   ],
   "source": [
    "cat.iloc[0:5]"
   ]
  },
  {
   "cell_type": "code",
   "execution_count": 2645,
   "id": "1cd3d6d5-d54b-468e-9a5d-dc19e02bbb3a",
   "metadata": {},
   "outputs": [],
   "source": [
    "mlb = MultiLabelBinarizer()\n",
    "participants = pd.DataFrame(mlb.fit_transform(cat['participants']),columns=mlb.classes_, index=cat.index)\n",
    "races = pd.DataFrame(mlb.fit_transform(cat['races']),columns=mlb.classes_, index=cat.index)"
   ]
  },
  {
   "cell_type": "code",
   "execution_count": 2646,
   "id": "025bdb22-cb95-401a-9ca0-49e2bcb736a6",
   "metadata": {},
   "outputs": [
    {
     "name": "stdout",
     "output_type": "stream",
     "text": [
      "(479, 180)\n",
      "(479, 4)\n"
     ]
    }
   ],
   "source": [
    "print(participants.shape)\n",
    "print(races.shape)\n"
   ]
  },
  {
   "cell_type": "code",
   "execution_count": 2647,
   "id": "3d0f4004-a71b-44a4-8a96-e3200dd04ea0",
   "metadata": {},
   "outputs": [],
   "source": [
    "cat = pd.concat([participants, races], axis=1)\n",
    "cat = races"
   ]
  },
  {
   "cell_type": "code",
   "execution_count": 2648,
   "id": "350dd03c-b2f0-4148-a79f-a995ac841950",
   "metadata": {},
   "outputs": [
    {
     "data": {
      "text/html": [
       "<div>\n",
       "<style scoped>\n",
       "    .dataframe tbody tr th:only-of-type {\n",
       "        vertical-align: middle;\n",
       "    }\n",
       "\n",
       "    .dataframe tbody tr th {\n",
       "        vertical-align: top;\n",
       "    }\n",
       "\n",
       "    .dataframe thead th {\n",
       "        text-align: right;\n",
       "    }\n",
       "</style>\n",
       "<table border=\"1\" class=\"dataframe\">\n",
       "  <thead>\n",
       "    <tr style=\"text-align: right;\">\n",
       "      <th></th>\n",
       "      <th>p</th>\n",
       "      <th>t</th>\n",
       "      <th>u</th>\n",
       "      <th>z</th>\n",
       "    </tr>\n",
       "  </thead>\n",
       "  <tbody>\n",
       "    <tr>\n",
       "      <th>0</th>\n",
       "      <td>0</td>\n",
       "      <td>1</td>\n",
       "      <td>0</td>\n",
       "      <td>1</td>\n",
       "    </tr>\n",
       "    <tr>\n",
       "      <th>1</th>\n",
       "      <td>1</td>\n",
       "      <td>1</td>\n",
       "      <td>0</td>\n",
       "      <td>0</td>\n",
       "    </tr>\n",
       "    <tr>\n",
       "      <th>2</th>\n",
       "      <td>1</td>\n",
       "      <td>0</td>\n",
       "      <td>0</td>\n",
       "      <td>1</td>\n",
       "    </tr>\n",
       "    <tr>\n",
       "      <th>3</th>\n",
       "      <td>1</td>\n",
       "      <td>0</td>\n",
       "      <td>0</td>\n",
       "      <td>1</td>\n",
       "    </tr>\n",
       "    <tr>\n",
       "      <th>4</th>\n",
       "      <td>0</td>\n",
       "      <td>1</td>\n",
       "      <td>0</td>\n",
       "      <td>1</td>\n",
       "    </tr>\n",
       "    <tr>\n",
       "      <th>...</th>\n",
       "      <td>...</td>\n",
       "      <td>...</td>\n",
       "      <td>...</td>\n",
       "      <td>...</td>\n",
       "    </tr>\n",
       "    <tr>\n",
       "      <th>474</th>\n",
       "      <td>1</td>\n",
       "      <td>0</td>\n",
       "      <td>0</td>\n",
       "      <td>1</td>\n",
       "    </tr>\n",
       "    <tr>\n",
       "      <th>475</th>\n",
       "      <td>1</td>\n",
       "      <td>0</td>\n",
       "      <td>0</td>\n",
       "      <td>1</td>\n",
       "    </tr>\n",
       "    <tr>\n",
       "      <th>476</th>\n",
       "      <td>1</td>\n",
       "      <td>1</td>\n",
       "      <td>0</td>\n",
       "      <td>0</td>\n",
       "    </tr>\n",
       "    <tr>\n",
       "      <th>477</th>\n",
       "      <td>1</td>\n",
       "      <td>0</td>\n",
       "      <td>0</td>\n",
       "      <td>0</td>\n",
       "    </tr>\n",
       "    <tr>\n",
       "      <th>478</th>\n",
       "      <td>1</td>\n",
       "      <td>0</td>\n",
       "      <td>0</td>\n",
       "      <td>1</td>\n",
       "    </tr>\n",
       "  </tbody>\n",
       "</table>\n",
       "<p>479 rows × 4 columns</p>\n",
       "</div>"
      ],
      "text/plain": [
       "     p  t  u  z\n",
       "0    0  1  0  1\n",
       "1    1  1  0  0\n",
       "2    1  0  0  1\n",
       "3    1  0  0  1\n",
       "4    0  1  0  1\n",
       "..  .. .. .. ..\n",
       "474  1  0  0  1\n",
       "475  1  0  0  1\n",
       "476  1  1  0  0\n",
       "477  1  0  0  0\n",
       "478  1  0  0  1\n",
       "\n",
       "[479 rows x 4 columns]"
      ]
     },
     "execution_count": 2648,
     "metadata": {},
     "output_type": "execute_result"
    }
   ],
   "source": [
    "races"
   ]
  },
  {
   "cell_type": "code",
   "execution_count": 2649,
   "id": "fab46703-260c-40b8-b00e-2da4ea998c4f",
   "metadata": {},
   "outputs": [],
   "source": [
    "X = pd.concat([num, cat], axis = 1)\n",
    "y = videos['view_count']"
   ]
  },
  {
   "cell_type": "code",
   "execution_count": 2650,
   "id": "44273235-5770-43f0-844c-c3c0c0e1eee6",
   "metadata": {},
   "outputs": [],
   "source": [
    "X_train, X_test, y_train, y_test = train_test_split(X, y, test_size=0.2, random_state=0)"
   ]
  },
  {
   "cell_type": "code",
   "execution_count": 2651,
   "id": "6c2181dd-1cf9-45de-b4f9-7277e920547e",
   "metadata": {},
   "outputs": [],
   "source": [
    "transformer = MinMaxScaler().fit(X_train) # need to keep transformer\n",
    "X_train_normalized = transformer.transform(X_train)\n",
    "X_train_norm = pd.DataFrame(X_train_normalized)\n",
    "X_train_norm.columns = X_train.columns\n",
    "\n",
    "transformer = MinMaxScaler().fit(X_test) # need to keep transformer\n",
    "X_test_normalized = transformer.transform(X_test)\n",
    "X_test_norm = pd.DataFrame(X_test_normalized)\n",
    "X_test_norm.columns = X_test.columns"
   ]
  },
  {
   "cell_type": "markdown",
   "id": "0d76fe2d-d0a5-4636-9372-3d1e7e3634eb",
   "metadata": {},
   "source": [
    "### correlation matrix"
   ]
  },
  {
   "cell_type": "code",
   "execution_count": 2652,
   "id": "5cf98e0e-ebe6-4a83-85fe-9057ca562e64",
   "metadata": {},
   "outputs": [
    {
     "data": {
      "image/png": "[encoded data removed]",
      "text/plain": [
       "<Figure size 432x288 with 2 Axes>"
      ]
     },
     "metadata": {
      "needs_background": "light"
     },
     "output_type": "display_data"
    },
    {
     "name": "stdout",
     "output_type": "stream",
     "text": [
      "Wall time: 180 ms\n"
     ]
    }
   ],
   "source": [
    "%%time\n",
    "correlations_matrix = round(videos._get_numeric_data().corr(),2)\n",
    "sns.heatmap(correlations_matrix, annot=True)\n",
    "plt.show()"
   ]
  },
  {
   "cell_type": "code",
   "execution_count": 2654,
   "id": "fc545e63-d3cb-4c1f-8f1d-055a69e4ba05",
   "metadata": {},
   "outputs": [
    {
     "data": {
      "text/plain": [
       "0.3270882344131838"
      ]
     },
     "execution_count": 2654,
     "metadata": {},
     "output_type": "execute_result"
    }
   ],
   "source": [
    "lm = linear_model.LinearRegression()\n",
    "lm.fit(X_train,y_train)\n",
    "\n",
    "predictions = lm.predict(X_test)\n",
    "r2_score(y_test, predictions)"
   ]
  },
  {
   "cell_type": "code",
   "execution_count": 2656,
   "id": "1b8528fe-43c4-4be1-b692-7179e7fa5e59",
   "metadata": {},
   "outputs": [],
   "source": [
    "regr = DecisionTreeRegressor(max_depth=5)\n",
    "model = regr.fit(X_train, y_train)"
   ]
  },
  {
   "cell_type": "code",
   "execution_count": 2657,
   "id": "71a39417-d3be-4bc1-abf3-944b7c18bc59",
   "metadata": {},
   "outputs": [
    {
     "name": "stdout",
     "output_type": "stream",
     "text": [
      "test data accuracy was:  0.37413318840810694\n",
      "train data accuracy was:  0.5273749270073647\n"
     ]
    }
   ],
   "source": [
    "print(\"test data accuracy was: \",regr.score(X_test, y_test))\n",
    "print(\"train data accuracy was: \",regr.score(X_train, y_train))"
   ]
  },
  {
   "cell_type": "code",
   "execution_count": null,
   "id": "9c9fcef5-cd47-439d-8025-ed4001ca5fc4",
   "metadata": {},
   "outputs": [],
   "source": []
  },
  {
   "cell_type": "code",
   "execution_count": null,
   "id": "fcc59bfa-308d-4b04-af1b-219e44d961f2",
   "metadata": {},
   "outputs": [],
   "source": []
  }
 ],
 "metadata": {
  "kernelspec": {
   "display_name": "Python 3 (ipykernel)",
   "language": "python",
   "name": "python3"
  },
  "language_info": {
   "codemirror_mode": {
    "name": "ipython",
    "version": 3
   },
   "file_extension": ".py",
   "mimetype": "text/x-python",
   "name": "python",
   "nbconvert_exporter": "python",
   "pygments_lexer": "ipython3",
   "version": "3.9.7"
  }
 },
 "nbformat": 4,
 "nbformat_minor": 5
}
